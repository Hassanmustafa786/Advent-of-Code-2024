{
 "cells": [
  {
   "cell_type": "code",
   "execution_count": null,
   "metadata": {},
   "outputs": [],
   "source": [
    "# Day 15 (Part 1)\n",
    "# Define file path\n",
    "file_path = \"Day15.txt\"\n",
    "\n",
    "matrix = []\n",
    "with open(file_path, 'r') as file:\n",
    "    lines = file.readlines()\n",
    "    for line in lines:\n",
    "        matrix.append(list(line.strip()))\n",
    "    \n",
    "print(matrix)"
   ]
  },
  {
   "cell_type": "code",
   "execution_count": null,
   "metadata": {},
   "outputs": [],
   "source": [
    "directions = []\n",
    "new_matrix = []\n",
    "found_blank = False\n",
    "\n",
    "for lst in matrix:\n",
    "    if lst == []:\n",
    "        found_blank = True\n",
    "        continue\n",
    "    elif found_blank:\n",
    "        directions.append(lst)\n",
    "    else:\n",
    "        new_matrix.append(lst)\n",
    "\n",
    "print(new_matrix)"
   ]
  },
  {
   "cell_type": "code",
   "execution_count": null,
   "metadata": {},
   "outputs": [],
   "source": [
    "# Find the robot's initial position\n",
    "robot_row, robot_col = None, None\n",
    "for i, row in enumerate(matrix):\n",
    "    for j, cell in enumerate(row):\n",
    "        if cell == \"@\":\n",
    "            robot_row, robot_col = i, j\n",
    "            print(\"Location of robot: \", robot_row, robot_col)\n",
    "            break\n",
    "    if robot_row is not None:\n",
    "        break\n",
    "\n",
    "# Define movement directions\n",
    "move_map = {\n",
    "    '<': (0, -1),\n",
    "    '>': (0, 1),\n",
    "    '^': (-1, 0),\n",
    "    'v': (1, 0)\n",
    "}"
   ]
  },
  {
   "cell_type": "code",
   "execution_count": null,
   "metadata": {},
   "outputs": [],
   "source": [
    "# Helper function to check if a move is valid\n",
    "def can_push_boxes(matrix, row, col, dr, dc):\n",
    "    \"\"\"Check if all boxes in a row/line can be pushed.\"\"\"\n",
    "    while True:\n",
    "        row += dr\n",
    "        col += dc\n",
    "        if matrix[row][col] == \"#\":  # Wall encountered\n",
    "            return False\n",
    "        if matrix[row][col] == \".\":  # Space is clear\n",
    "            return True\n",
    "        if matrix[row][col] == \"O\":  # Another box, keep checking\n",
    "            continue\n",
    "        return False  # Any other case is invalid\n",
    "\n",
    "# Helper function to push all boxes in a row/line\n",
    "def push_boxes(matrix, row, col, dr, dc):\n",
    "    \"\"\"Push all boxes along the direction (dr, dc).\"\"\"\n",
    "    box_positions = []\n",
    "    while new_matrix[row][col] == \"O\":\n",
    "        box_positions.append((row, col))\n",
    "        row += dr\n",
    "        col += dc\n",
    "\n",
    "    # Move boxes in reverse order (to avoid overwriting)\n",
    "    for r, c in reversed(box_positions):\n",
    "        matrix[r + dr][c + dc] = \"O\"\n",
    "        matrix[r][c] = \".\""
   ]
  },
  {
   "cell_type": "code",
   "execution_count": null,
   "metadata": {},
   "outputs": [],
   "source": [
    "for dir_row in directions:\n",
    "    for dir_col in dir_row:\n",
    "        dr, dc = move_map[dir_col]\n",
    "        new_row, new_col = robot_row + dr, robot_col + dc\n",
    "\n",
    "        # Check if the robot hits a wall\n",
    "        if new_matrix[new_row][new_col] == \"#\":\n",
    "            continue\n",
    "\n",
    "        # Handle box pushing\n",
    "        if new_matrix[new_row][new_col] == \"O\":\n",
    "            # Check if all boxes can be pushed\n",
    "            if can_push_boxes(new_matrix, new_row, new_col, dr, dc):\n",
    "                # Push the boxes\n",
    "                push_boxes(new_matrix, new_row, new_col, dr, dc)\n",
    "                # Move the robot\n",
    "                new_matrix[new_row][new_col] = \"@\"\n",
    "                new_matrix[robot_row][robot_col] = \".\"\n",
    "                robot_row, robot_col = new_row, new_col\n",
    "            else:\n",
    "                continue  # Skip the move if boxes can't be pushed\n",
    "        else:\n",
    "            # Move the robot\n",
    "            new_matrix[new_row][new_col] = \"@\"\n",
    "            new_matrix[robot_row][robot_col] = \".\"\n",
    "            robot_row, robot_col = new_row, new_col\n"
   ]
  },
  {
   "cell_type": "code",
   "execution_count": null,
   "metadata": {},
   "outputs": [],
   "source": [
    "# Calculate the sum of GPS coordinates for all boxes\n",
    "gps_sum = 0\n",
    "for row in range(len(new_matrix)):\n",
    "    for col in range(len(new_matrix[row])):\n",
    "        if new_matrix[row][col] == \"O\":\n",
    "            gps_sum += 100 * row + col\n",
    "\n",
    "print(f\"Sum of all box GPS coordinates: {gps_sum}\")"
   ]
  },
  {
   "cell_type": "code",
   "execution_count": null,
   "metadata": {},
   "outputs": [],
   "source": [
    "for row in new_matrix:\n",
    "    print(\"\".join(row))"
   ]
  },
  {
   "cell_type": "markdown",
   "metadata": {},
   "source": [
    "# Part 2"
   ]
  },
  {
   "cell_type": "code",
   "execution_count": 52,
   "metadata": {},
   "outputs": [
    {
     "name": "stdout",
     "output_type": "stream",
     "text": [
      "[['#', '#', '#', '#', '#', '#', '#'], ['#', '.', '.', '.', '#', '.', '#'], ['#', '.', '.', '.', '.', '.', '#'], ['#', '.', '.', 'O', 'O', '@', '#'], ['#', '.', '.', 'O', '.', '.', '#'], ['#', '.', '.', '.', '.', '.', '#'], ['#', '#', '#', '#', '#', '#', '#'], [], ['<', 'v', 'v', '<', '<', '^', '^', '<', '<', '^', '^']]\n"
     ]
    }
   ],
   "source": [
    "# Day 15 (Part 2)\n",
    "# Define file path\n",
    "file_path = \"Day15_Practice.txt\"\n",
    "\n",
    "matrix = []\n",
    "with open(file_path, 'r') as file:\n",
    "    lines = file.readlines()\n",
    "    for line in lines:\n",
    "        matrix.append(list(line.strip()))\n",
    "    \n",
    "print(matrix)"
   ]
  },
  {
   "cell_type": "code",
   "execution_count": 53,
   "metadata": {},
   "outputs": [
    {
     "data": {
      "text/plain": [
       "[['#', '#', '#', '#', '#', '#', '#', '#', '#', '#', '#', '#', '#', '#'],\n",
       " ['#', '#', '.', '.', '.', '.', '.', '.', '#', '#', '.', '.', '#', '#'],\n",
       " ['#', '#', '.', '.', '.', '.', '.', '.', '.', '.', '.', '.', '#', '#'],\n",
       " ['#', '#', '.', '.', '.', '.', '[', ']', '[', ']', '@', '.', '#', '#'],\n",
       " ['#', '#', '.', '.', '.', '.', '[', ']', '.', '.', '.', '.', '#', '#'],\n",
       " ['#', '#', '.', '.', '.', '.', '.', '.', '.', '.', '.', '.', '#', '#'],\n",
       " ['#', '#', '#', '#', '#', '#', '#', '#', '#', '#', '#', '#', '#', '#'],\n",
       " [],\n",
       " ['<', 'v', 'v', '<', '<', '^', '^', '<', '<', '^', '^']]"
      ]
     },
     "execution_count": 53,
     "metadata": {},
     "output_type": "execute_result"
    }
   ],
   "source": [
    "# Function to double the width of the map\n",
    "def expand_map(matrix):\n",
    "    expanded_map = []\n",
    "    for row in matrix:\n",
    "        new_row = []\n",
    "        for tile in row:\n",
    "            if tile == \"#\":\n",
    "                new_row.extend([\"#\", \"#\"])\n",
    "            elif tile == \"O\":\n",
    "                new_row.extend([\"[\", \"]\"])\n",
    "            elif tile == \".\":\n",
    "                new_row.extend([\".\", \".\"])\n",
    "            elif tile == \"@\":\n",
    "                new_row.extend([\"@\", \".\"])\n",
    "            else:\n",
    "                new_row.append(tile)\n",
    "        expanded_map.append(new_row)\n",
    "    return expanded_map\n",
    "\n",
    "# Create the new expanded map\n",
    "expanded_matrix = expand_map(matrix)\n",
    "expanded_matrix"
   ]
  },
  {
   "cell_type": "code",
   "execution_count": 54,
   "metadata": {},
   "outputs": [
    {
     "name": "stdout",
     "output_type": "stream",
     "text": [
      "[['#', '#', '#', '#', '#', '#', '#', '#', '#', '#', '#', '#', '#', '#'], ['#', '#', '.', '.', '.', '.', '.', '.', '#', '#', '.', '.', '#', '#'], ['#', '#', '.', '.', '.', '.', '.', '.', '.', '.', '.', '.', '#', '#'], ['#', '#', '.', '.', '.', '.', '[', ']', '[', ']', '@', '.', '#', '#'], ['#', '#', '.', '.', '.', '.', '[', ']', '.', '.', '.', '.', '#', '#'], ['#', '#', '.', '.', '.', '.', '.', '.', '.', '.', '.', '.', '#', '#'], ['#', '#', '#', '#', '#', '#', '#', '#', '#', '#', '#', '#', '#', '#']]\n"
     ]
    }
   ],
   "source": [
    "directions = []\n",
    "new_matrix = []\n",
    "found_blank = False\n",
    "\n",
    "for lst in expanded_matrix:\n",
    "    if lst == []:\n",
    "        found_blank = True\n",
    "        continue\n",
    "    elif found_blank:\n",
    "        directions.append(lst)\n",
    "    else:\n",
    "        new_matrix.append(lst)\n",
    "\n",
    "print(new_matrix)"
   ]
  },
  {
   "cell_type": "code",
   "execution_count": 55,
   "metadata": {},
   "outputs": [
    {
     "data": {
      "text/plain": [
       "[['#', '#', '#', '#', '#', '#', '#', '#', '#', '#', '#', '#', '#', '#'],\n",
       " ['#', '#', '.', '.', '.', '.', '.', '.', '#', '#', '.', '.', '#', '#'],\n",
       " ['#', '#', '.', '.', '.', '.', '.', '.', '.', '.', '.', '.', '#', '#'],\n",
       " ['#', '#', '.', '.', '.', '.', '[', ']', '[', ']', '@', '.', '#', '#'],\n",
       " ['#', '#', '.', '.', '.', '.', '[', ']', '.', '.', '.', '.', '#', '#'],\n",
       " ['#', '#', '.', '.', '.', '.', '.', '.', '.', '.', '.', '.', '#', '#'],\n",
       " ['#', '#', '#', '#', '#', '#', '#', '#', '#', '#', '#', '#', '#', '#']]"
      ]
     },
     "execution_count": 55,
     "metadata": {},
     "output_type": "execute_result"
    }
   ],
   "source": [
    "new_matrix"
   ]
  },
  {
   "cell_type": "code",
   "execution_count": 56,
   "metadata": {},
   "outputs": [
    {
     "data": {
      "text/plain": [
       "[['<', 'v', 'v', '<', '<', '^', '^', '<', '<', '^', '^']]"
      ]
     },
     "execution_count": 56,
     "metadata": {},
     "output_type": "execute_result"
    }
   ],
   "source": [
    "directions"
   ]
  },
  {
   "cell_type": "code",
   "execution_count": 57,
   "metadata": {},
   "outputs": [],
   "source": [
    "# Define movement directions\n",
    "move_map = {\n",
    "    '<': (0, -1),\n",
    "    '>': (0, 1),\n",
    "    '^': (-1, 0),\n",
    "    'v': (1, 0)\n",
    "}\n",
    "\n",
    "# Helper function to check if a move is valid\n",
    "def can_push_boxes(matrix, row, col, dr, dc):\n",
    "    \"\"\"Check if all boxes in a row/line can be pushed.\"\"\"\n",
    "    while True:\n",
    "        row += dr\n",
    "        col += dc\n",
    "        if matrix[row][col] == \"#\":  # Wall encountered\n",
    "            return False\n",
    "        if matrix[row][col] == \".\":  # Space is clear\n",
    "            return True\n",
    "        if matrix[row][col] == \"[\" or matrix[row][col] == \"]\":  # Another box, keep checking\n",
    "            continue\n",
    "        return False  # Any other case is invalid\n",
    "\n",
    "# Helper function to push all boxes in a row/line\n",
    "def push_boxes(matrix, row, col, dr, dc):\n",
    "    \"\"\"Push all boxes along the direction (dr, dc).\"\"\"\n",
    "    box_positions = []\n",
    "    while matrix[row][col] == \"[\" or matrix[row][col] == \"]\":\n",
    "        box_positions.append((row, col))\n",
    "        row += dr\n",
    "        col += dc\n",
    "\n",
    "    # Move boxes in reverse order (to avoid overwriting)\n",
    "    for r, c in reversed(box_positions):\n",
    "        matrix[r + dr][c + dc] = \"[\"\n",
    "        matrix[r][c] = \".\"\n",
    "    \n",
    "    # Move boxes in reverse order (to avoid overwriting)\n",
    "    for r, c in reversed(box_positions):\n",
    "        matrix[r + dr][c + dc] = \"]\"\n",
    "        matrix[r][c] = \".\""
   ]
  },
  {
   "cell_type": "code",
   "execution_count": 58,
   "metadata": {},
   "outputs": [
    {
     "name": "stdout",
     "output_type": "stream",
     "text": [
      "Location of robot:  3 10\n"
     ]
    }
   ],
   "source": [
    "# Find the robot's initial position\n",
    "robot_row, robot_col = None, None\n",
    "for i, row in enumerate(new_matrix):\n",
    "    for j, cell in enumerate(row):\n",
    "        if cell == \"@\":\n",
    "            robot_row, robot_col = i, j\n",
    "            print(\"Location of robot: \", robot_row, robot_col)\n",
    "            break\n",
    "    if robot_row is not None:\n",
    "        break"
   ]
  },
  {
   "cell_type": "code",
   "execution_count": 59,
   "metadata": {},
   "outputs": [
    {
     "data": {
      "text/plain": [
       "[['#', '#', '#', '#', '#', '#', '#', '#', '#', '#', '#', '#', '#', '#'],\n",
       " ['#', '#', '.', '.', '.', '.', '.', '.', '#', '#', '.', '.', '#', '#'],\n",
       " ['#', '#', '.', '.', '.', '.', '.', '.', '.', '.', '.', '.', '#', '#'],\n",
       " ['#', '#', '.', '.', '.', '.', '[', ']', '[', ']', '@', '.', '#', '#'],\n",
       " ['#', '#', '.', '.', '.', '.', '[', ']', '.', '.', '.', '.', '#', '#'],\n",
       " ['#', '#', '.', '.', '.', '.', '.', '.', '.', '.', '.', '.', '#', '#'],\n",
       " ['#', '#', '#', '#', '#', '#', '#', '#', '#', '#', '#', '#', '#', '#']]"
      ]
     },
     "execution_count": 59,
     "metadata": {},
     "output_type": "execute_result"
    }
   ],
   "source": [
    "new_matrix"
   ]
  },
  {
   "cell_type": "code",
   "execution_count": 60,
   "metadata": {},
   "outputs": [
    {
     "name": "stdout",
     "output_type": "stream",
     "text": [
      "dr, dc:  0 -1\n",
      "new_row, new_col:  3 9\n",
      "dr, dc:  1 0\n",
      "new_row, new_col:  4 9\n",
      "dr, dc:  1 0\n",
      "new_row, new_col:  5 9\n",
      "dr, dc:  0 -1\n",
      "new_row, new_col:  5 8\n",
      "dr, dc:  0 -1\n",
      "new_row, new_col:  5 7\n",
      "dr, dc:  -1 0\n",
      "new_row, new_col:  4 7\n",
      "dr, dc:  -1 0\n",
      "new_row, new_col:  3 7\n",
      "dr, dc:  0 -1\n",
      "new_row, new_col:  3 6\n",
      "dr, dc:  0 -1\n",
      "new_row, new_col:  3 5\n",
      "dr, dc:  -1 0\n",
      "new_row, new_col:  2 5\n",
      "dr, dc:  -1 0\n",
      "new_row, new_col:  1 5\n"
     ]
    }
   ],
   "source": [
    "for dir_row in directions:\n",
    "    for dir_col in dir_row:\n",
    "        dr, dc = move_map[dir_col]\n",
    "        print(\"dr, dc: \", dr, dc)\n",
    "        new_row, new_col = robot_row + dr, robot_col + dc\n",
    "        print(\"new_row, new_col: \", new_row, new_col)\n",
    "\n",
    "\n",
    "        # Check if the robot hits a wall\n",
    "        if new_matrix[new_row][new_col] == \"#\":\n",
    "            continue\n",
    "\n",
    "        # Handle box pushing\n",
    "        if new_matrix[new_row][new_col] == \"[]\":\n",
    "            # Check if all boxes can be pushed\n",
    "            if can_push_boxes(new_matrix, new_row, new_col, dr, dc):\n",
    "                # Push the boxes\n",
    "                push_boxes(new_matrix, new_row, new_col, dr, dc)\n",
    "                # Move the robot\n",
    "                new_matrix[new_row][new_col] = \"@.\"\n",
    "                new_matrix[robot_row][robot_col] = \"..\"\n",
    "                robot_row, robot_col = new_row, new_col\n",
    "            else:\n",
    "                continue  # Skip the move if boxes can't be pushed\n",
    "        else:\n",
    "            # Move the robot\n",
    "            new_matrix[new_row][new_col] = \"@.\"\n",
    "            new_matrix[robot_row][robot_col] = \"..\"\n",
    "            robot_row, robot_col = new_row, new_col"
   ]
  },
  {
   "cell_type": "code",
   "execution_count": 61,
   "metadata": {},
   "outputs": [
    {
     "name": "stdout",
     "output_type": "stream",
     "text": [
      "\n",
      "Final Expanded Grid:\n",
      "['#', '#', '#', '#', '#', '#', '#', '#', '#', '#', '#', '#', '#', '#']\n",
      "['#', '#', '.', '.', '.', '@.', '.', '.', '#', '#', '.', '.', '#', '#']\n",
      "['#', '#', '.', '.', '.', '..', '.', '.', '.', '.', '.', '.', '#', '#']\n",
      "['#', '#', '.', '.', '.', '..', '..', '..', '[', '..', '..', '.', '#', '#']\n",
      "['#', '#', '.', '.', '.', '.', '[', '..', '.', '..', '.', '.', '#', '#']\n",
      "['#', '#', '.', '.', '.', '.', '.', '..', '..', '..', '.', '.', '#', '#']\n",
      "['#', '#', '#', '#', '#', '#', '#', '#', '#', '#', '#', '#', '#', '#']\n",
      "Sum of all box GPS coordinates: 714\n"
     ]
    }
   ],
   "source": [
    "# Calculate the sum of GPS coordinates for all boxes\n",
    "gps_sum = 0\n",
    "for row in range(len(new_matrix)):\n",
    "    for col in range(len(new_matrix[row])):\n",
    "        if new_matrix[row][col] == \"[\":\n",
    "            gps_sum += 100 * row + col\n",
    "\n",
    "# Print the final grid and the sum of GPS coordinates\n",
    "print(\"\\nFinal Expanded Grid:\")\n",
    "for row in new_matrix:\n",
    "    print(row)\n",
    "\n",
    "print(f\"Sum of all box GPS coordinates: {gps_sum}\")"
   ]
  },
  {
   "cell_type": "code",
   "execution_count": null,
   "metadata": {},
   "outputs": [],
   "source": []
  },
  {
   "cell_type": "code",
   "execution_count": null,
   "metadata": {},
   "outputs": [],
   "source": []
  },
  {
   "cell_type": "markdown",
   "metadata": {},
   "source": [
    "# Another Approach"
   ]
  },
  {
   "cell_type": "code",
   "execution_count": 17,
   "metadata": {},
   "outputs": [
    {
     "name": "stdout",
     "output_type": "stream",
     "text": [
      "['##################################################', '#..#..OOO...O.OO..#....O.#.....O.##.........O....#', '##..OO.OO.O..##...O....O.O#.O..O.#....O..O#...OOO#', '#O..O.O....#....O.O...O.....#.#.O....#OO##.O.O.O.#', '#O.O...O.OO.O.#OO...O...O..O.#OO.O..O....OO...OOO#', '#O.#.OO.OO.O..O...OOO..#.O.O#O.#......#O...#.....#', '#...#O...O.O.......O.OO...O....O..OO.O....O.OO..O#', '#O#.O.OOO...O#O.........OO...OOO...#.......#..#..#', '##.O......O..O...O.#........O...O..O......OO.OOOO#', '#...O..O........O..O.O.O...............O...#.O.#.#', '#O..OO.......O....O...#.O.O........O#.OO.O...O...#', '#....OOO....O.......OO..OO.O...O..OO..OO..O..O.O.#', '#OO.O....OOO.O.O....#.O..O.....O..#.O....O..O..O.#', '#.....O...OOO.O....O..OO.OOO..#O#O...OO..O#.O.O.O#', '#..........O...O......OO.O..OO.O.O...OO.O.#....O.#', '#.O..O.....O.O.O.#OO.O...O....O.O..OOOO.O......O##', '#O.O...#..#..#......#O.#....#..O#O.O..O.....O.O#O#', '#O.OO.O...O..#...O.#......O..O..O#....OOO.O.OO...#', '#O....#.OOO..O...O..#.O..O.O....O..#.....O..OO.O.#', '#....OO.........OO.#.O..O...#.O...#.O..OO.O#...O.#', '#..#.O.O##....O.........#O.O.....#.#......O.O....#', '#.........OO#.O.........OOOO...OO#.O#..O..O.#.O#O#', '#...O...O...O....O..O..#......O..O..O..O#O#....#.#', '#O.....#..OO..O.....OOO.#..O..O..O..#O..O...OO.O.#', '#..O...O...O....O.....O.@..OO....#.......OOO#O...#', '#.OO.O..O....##...O....O#O..O.O....OO..O#.....O.##', '#.O.......##.##..#OOOO..OO....#.O#.......O...OO..#', '#....#.O..O..O....O....O.OO.O...#OO.....O...O....#', '#O......O.....#.#O...O..O..O..O.......O......O.OO#', '#.......O#.#.#....O..OO....O.O.OO......O.O..OO...#', '#...#O..#....#...OO..O....O#..#...O...O...OO.O..O#', '#.....#.O..#.O.#....O.O..O#.#..O..O.#....#....OO.#', '#.#O#....O..O..#.OO...#.OO....O......O#OO.O.O....#', '#O.O..O.OOOOO....#.O.....O..OOO#...O#O..O.O...#.O#', '#.OOO.##O.O.#..O.OO.OO.OO.#O.O.OOO...O.....O.O...#', '#.O..O...OO.O...#..O..O...#..O.OO....O.....O...#O#', '#O.....#.OO.O..O..........#...O.O.O.....OOO....O.#', '#..OO..O#.O.O#O.O#O.#.#O..O#..O...#....#.#.#..OOO#', '#.#O....##...O#O...O#..OO...O....OOO.O..O.O.#.#.O#', '#.O.O..O...O.....OOO.O......O....O#...O.O#.O#OO#.#', '#.O.......O.......#.O..OO.....OO#..#..#.....O..O.#', '##O...OO...O.....O.O...O...#...O.O....O.O#.O....O#', '##....OO..#OO.#...#..OOO..##.O#.....O...O.#......#', '#....O..O#.........O.............O..#OO...OO.OO..#', '#O....O.OO#..O....O...O......OO......O..O.#O.O..O#', '#.O.......O...OO.O......O.OOO......O..O....OO....#', '#OO.O.O...O...O.O..O..O.......O.#..O..O...O..OO..#', '#..O..O...O#....OO..........O.#OO......O..O.O....#', '#O..OO#.O..O##..#....O...O.O..O......O....O.O..#.#', '##################################################', '', '^>v^^>vvvvv><vvv>vv>v^v<v<<<<><v>vvvvvv<^vv><v^v>><v<^><vv^^^<<<v>>v<<v^>v<<>v^^v>vv><^>><>v^>^^v<vv<<>vvv<^v<^vv><><vv<^^^v^><<vvv<<^>>^<<>^v>v^<^<^v>v>v>><v>vv^<^^>><<>^^v^<><^>^^<v^>><^v<><^v><<<v>^^>v^<^>>><^>^^^<<<v^><v<v>vv<^<v<^>v>>>vv<^<^>v<^><><<vv^v^<<^<>^>v<^v><vv><v>^^^^v^<><^^^^^v<vv<^<^^^^<v<vv<v<^vv<<^<v<<^^<<^><<<<vvvv<<>>^<<v<v^^>vv<^v^^^>><>^<^^><v^^vv^v<<^^^<<>v^>v>v<<^<>>>>><><v^<>^^><^<v>><<>><v^<v><<v<^v<<>vv<>^<>^>v>>^^^^v<<^vv><<<<^v^<>v<>v>v><>v<v<^vv^<^vvv>>^<><v^^>^>v<v>>v^>v^><^>^<^<>^>><<<<>^vv<<^>v>^<^><v<>>^>v<^<v^^>^><<v<^v^>>>>^v<><>vv<^>^^>vv<v^>vv^>v^^>^^v<>>v><^vvv<<<<><v<v^<^^^v^^<>>v<vv<<>v><>vvv^<^v^vv^>^>vv>>>^^<<<v<^><>v^^^<<>^<v<^>v>>>vv^<v<v^>^^vv<>v><<^^<>>v><><v<>vv^<^^vv>>^v^v<>^^<^>vvv<^>vv<^<^v>><^^^v><^>><^<^<<v<^<v<<^v>v<^v<^<<>^<<<><v^>>^^v>v<^<<>vv<v>^<vv<>v>v>v^vvv^<v<^<<>^<>v^^><^>v>v^^>>>>><<<<<<>^>><^<v^v<<v^^v>>^v<vvv><<<<vv>v<>v<>><<><^<v<>^><<^<vv>^><>vv^^>vv>>^vv^>^^v^<<v>>>^<v<<v>>vv^<>vvv^>^>>v^v^^^vv^vv^<vv^>v^^^<>v^<v<^>vv', '<v>>v^^v<><><vv^<vv<>^<^>v>v>^>^v^^>v<><^v>^^^<v^v>^<<vvv>>^<<>v><^<^^^<v><<v<^^^><<vvv>v^><<^<<>^^>^><>><^v<<<v<>^^^v<^<<vv<^vv<v^<^^v>v>^<^>^>>>^<^vv^><>^^v^>vv^v>^<<<vv<^>^<<^>>^^>vv<^<v>^v<^<v<vvv>vv^<<^<>vv<<>^v<^<<<<^v<>^>v><vv<^v^^v>>>><vvv<vvvvv>vv<v^<^^^<^vv>v<^v^^^<<^<^v^<^<^><^>^<<<>v<>v>v<^vv>>>v><<vv^>v>^^^v>><<^>^v><^>^v^>^><v<>><^<><^vv^<^<><^^vv^^><v^^><<^>^>>v^^>^^vvvv<><<>^vvvv^vv<^>^><<v^<><v<vv^>^^<^<v^^>^vv^v^><<v^^><<><^<<^vv^^<>>>^^^vv>v^<^<vvv>^v>^^v>>>><><>v^vv>v>vv<vv^vvv>vv^<^^v<<>^v<><>vvv^>>>^v>><vv<>v^v<>>>>^<^^<v>>^>^>v^>>v<>v^^^v<^vvv<><><<^<v<>^>>>^v<v>>>>^^><<<<<^^<^<^^>^<>vv>^>vv>v>^<><vv>>^v>v^^<<^>><^vv>v>^>^>^<<^v>^v<^<<>>v^>^v>v>v>><<<^^<^^^<<><>><<^<^^v^v^>v^^><v>>v>^<v^v>>vv^><v>v><>>>>>>>^^v<^>>>v<<><v<><^<>^v<^^<<^<^^vv>^v^^vv<<^vvvv><<<v><^^^^>>^<<><<>>vv>^^<<^><<<v<^><^^^<<>v^^^<<<vv>v<v>^<v>vv>v><vvv>vv^v^v<<v^^<v<>^^<><<<><v<^^^<vv<v>v>>>>v<^v<^^^>>^>^^<>^<<>^v^^><>>><<<<v^v>^^v>v<>>v<v>>v^v^<^<^><^<v><^^vv<^^<>v<><v>^v><^^<<>^<>^<<>^v^vv<', '><^^>><^<<<>>v<vv<>>^<<^<>v<<>>>^v>^<>v<^^>>v>^v>><^<<^><^<>v<>^v>><<<<<vv^v^>>>^^^>^<^>^>v^v<<v<>vv<^^<>>><vv>^><^^<<><>>^>v>^^>^<v<>^v>^><<^^>>vvv^<v^^>><><^<^>v^^v>>>>v^<>>v^^<v>^>><<>>>>>><<^^<><<vvv>vv^^v>v<^^vv>><>>^v<<>^v>^vv><^>^^vv>^v><>>>v^^<><^vvv>^^^<>v<>^v>>^vv<^<^<<><>vv<<^>>^^^<v><v<<><>^><>^v>^<>^<^>^>><^<>v^^<><^^<>v^<^v^<<<>v^<vv>>^>>^^^>>v>>>^^v><>>>><><^^<^v<<^v^^^<v>^v<><<v<v>>v^v><^<>>^<^v^^>>^>v<^<>>^^v>>vv^>^>^^><><v>^v<<^v^vv^vv^^>>>^^v><v>^<vv^><<<vvvvv>>^v><<<^><^<><<<>>^^^^>v>v^<^v^<v^<^vv<^^^v>>^v<^>v<^>>>^<^v^<<>vv^>><><v>v<v>>^>>>>v^<<>^><<^><^>^>><>^^v>><^^<^^vv><^v^<v<vvv><<v<>v^<><^>v<v^>>>vv^<<v^v<><<^v<><v>>v^v>^v^<v^<^^vv<<<>>>v<<<v^vv^v<><vv<><<>>^^<^>v><<v<^>vvv>^vv^vvv<<v^vv>^vv<>v<>v<v^<<<^vv>^^^^>^>>>><<<<^^<>>>^><^^><<<<<>v>^v><^><v<^<^v^><^^^<>>^^<vv<v^>>><^<>>^v>^<vv^v<^>>^<>>>v>>>>v^v^><vv^<<v<vv>^<v<>^^>v^>><>>^<<vvv^>^<>^<^<>>^^<<<<vv>>v>><vvvv>v^<^v<>^^v<<^v>>>^^<<>>vv><><>vv<^<v^<>^>vv>^<>vv>^vvv^v<>^<>vvv^v<vv<><^^v<vv<^>^><<v>><v>>^^^', '<v<v><<<^^^^>v<^^>v>v>v>>>v><<^^<^<v^<^>>>^^v>^><^v>>><><v^v><><v<<><v<>vv<>v><<>^v>^v<<^<<^<vv^v><>v^>v<><<v^<v>^^<><<v^v<^<>^<><>>^v^^^v>vvv<v^v^^><^><^v<>>>^<^>v><^<^^^^vv><vvv>v>^><^^v>v^v^v>><>^<v^v>>^v<^<>>><><>vv><>^<^^^^v^<^<<<>^><^<>>v<>^>v<^<^<^<v>^^v>vv>vv<^<<^<<^>vv><v<><<<^v>><^><<>v^>v>v^<<vv<vv<>>^vv^>v<>v^<v>v>^v>>>^<^^v^<<>vvv<vv><>^<><^^^v>v^^<^v>>vv>v^v>v^v>^<^^<<^>>><^^vvv^^>>^>>><^v><^^<>^>v<>>^v<^^vv>v<^>v>^<vv^v^^^^v<v<>vv<<>v^v>>vvv^<>v^vv^^^>v<>>^<^<^v>vv^^><^^>v<>vv<^vv^<<vvv^>v^v<<^<vv>v><>^^<^>vv>>^>><vv>^>^<v<^^>v^>v^^<>v>^>vvvvv>>>>^^><>>^<>vv<v<^^>vvv^^<v^^<^<v^v<vv^<>>^<^>>^^<v^<v^<<<>><v<><vv<^^><^vv>vv>>v^>^><>>v<<v^vv<v>>>^^<v><<>><><>^v<<^>v^<^^<v^^^v>>^>^<>^>>^>>^<vv^^<<v><>^>vvv><v<><<<<^v>>>^^>><^^^vv^^><<^v>><^><<v^<v>>v><<v>^>^v<><<<<^v<vv>v<^^^<^<>^>>>^><<<^<>><v^^<<<<<v>^>vv^v^^>^>>v><^<<>>v<^>vv>>><^^>vv>>^>^><<^v>>vv<v>vvv<>vv>v<><>>^>><><v<>>>v^><>^v^><^^<^>v>vv^>>v>^^v^<<^^^<<<<<<>v^v^^v><><v<^>v^><<vv^<vv<<>>^><>v<v>v<v<^vvv<>^>^<<v^>>v<>', 'v>^<<^>v^v^>><vv<vv<><<v^vv><^<v<<^v>>>vvv>^<>vv>v<^><<>v^>v>v<^vv>^^v<vv>><<vvvvv<<v^v^<^<^>^v<vvv><><>^<<v<vv<^^^><^>^<v<v^>>^^^v>^>^<^^^<<vv^^^><^>v>>v>>v>>>^<v<^vv<^vv<>^><<^v^>^<><^>v<<>>v^>>vv<^^^^><^>v>>^>v<^>><^^vvv<v<v^v<<^^v^^>v<^v<vv^><<^<^v>^vvv>vv^>v<vv^^<<><v<<>>><v^<>^v<<<<<>v^>><>v>>^>^<^v<<<v<^>^<<^<<v>><><><>^>v^v<^^^<v^v>v>v>>v<>^^>^<<v^^<>>^<>^^><v>v^><<<>v<<<<^^^^^><>v<><v><>>vv^vvv>^<<^<>vv^>v>>><v>><<><>^<v<<v^>^^v>>^^<^>v><^<^<<v<v^<<>>v>vv<^>v>^<>^<^vv^^^^vvvv><<>^v>v<v<^^v^<><vv>^>^>>vvv<<v^v>^<^^>^>^v<>>^<v<v>v><>^>v^^>^<^<^<vvv^<<><v>^v<v^>>>>>^><^>v><>>^^>v>><^>^^vv<v>vv>^<^^vvv^>><v><^<^<<^<>v^<vvvvv<><<<^v^v^<v>>v^v>v<><v>^><v^v<^<<^<v<^^^><><<^<>v>^^^<v<<vv>><<v>^<v^<>v>>^^^^^><>vv^>>^^<>^v^^v><<<<^>v^<v<^><<v<>^<>^vv^<^<<<v^><v<<^<>v^^>>^<vv>^<<>^^<^>^v^><^<v^><><<^<v^v^^<^v><v<^^<v^^^^<v^>^<^<>><^>>^v><^<^v<^vv<<>^^v^v^<>v<<^vv><>^>^<v>^^^<v^<<^vv>>^<>^^^<v>^^^<v<><^>v^v^><<<^<^>^^v^>vv<^v^>>>vv>>^^^<v<v<^vvv^<^<>>>><>>^vv<>v^><>>^^<<v^<<>^<<>^vv^^^^^v', '<^>^>v<^<vv^<v>^<^<^<^v>v<v^^^>>v^>^^^<>>^><>v^>>>>^vvv^vv<<<>vv<<v<>vv<>^v<v>^<^><^^vvv<v<^>v^<<v<<<v^<v<<><^>^^<<>>>><^v><>^>v>vv<v<>>^><v^^^^^v<<^vv<^^^<v>^<<<<<>><<^vv><<^^<><<v<<^v^<><v<vv<v^>^v>>^<<^<><<<^<><v^v^>v><>v^v^v>^v<<<v<>v><>><^v<v^v^v^<v>vv<>>vv^>v^>><<^<v>v^>vvv^>v>vvv>^<v>v<>v<^>^<><^<v^><><v>><v^v>v>v^<>>^vv<>^><^^<^^^<>v>v^^<<><^v>^<v>>v><v<<v><>v>^v>^<v^>vv<>^v^>>>>>v>^>vv^^<v<>v^<>vv^vv>v<^v>^^^vv>>^^>^><>^v>>>^^^v>^v^<^v<<<<<<^^<v<^^<>^v^^><><^vvv^^v^^^^>>vvv<v^><vvv^v<><<v^<<<vv><<v<^^^vv^v<>>v<v<><^v>><<<<^<<^>vv<v<vv>v^v^v^^><<<^v^^<vvv^^>^>vvv>>^v>v^v<^<^<^<<^<>^>^v>^vv^^v>^^v<^>v><>v><<<^<>^^>vv^^<^vv^>^>><>>v^^>>^v<v>^^<>>>>><<>>^^v<^>v^vvv>><<>^>>><v^>v<>><v>^^vv<>>^v<<<<<<v>^v>^<><^^<>^^v^^^<^^<>v<>vv^^>>vv>><<vv>><v^<>^>^^^v>^><^^v^<<^<>>>^<>>>>^^^^v^^>v>v>v^>v>^<<<^><>v>^^>vv<^^<^>vv^<^vvvv<v<^^^><v>><^<^<<>v^>v^<v>^^<>^>>><>>^<^^^^<<^><<>vv>v^v>^^<vv<><v><v>>>vvv<<>^v<<^^>^v>^^>v>>>^^<v<>>vv<^<vv>v^<^>^^^v>^^>>v^^v^v^>>^^^>><<^>^^v<^>>^vv^^v<<^<<<^<^<', 'vv^v<^vv>>v<>v<<v^v>>>>>vv<^v<<^>><v<<vvv<^^>>v>>^v<v<>>v^v<<>>^><vv^<^^^<^vv<>>>vv<^<<<^><>^^>><<>vvv^v<v<<^>^v>><^<v>^<<><>^^>>>>^^v<>^<^<v>v<vv<<^^>^^>>^v>>>>v>v<^<v>v>^>><<v^<>><<>^^<vv>v>^>^v<v><<v><>^^v<v<<>>v^^^<<><<<>vvv<v>v>>>>>>><vvvv><vv^v>>><<^<>><v^<v>vv<>v>^<<>><vv><<v>v>>><v<^<>>>>^^<>v<>^vv>>>>>^^vv><>v><<^<v<<^><v>^<<^^v<<><^>^^>v<<vv<<vv<^^^^<><^^^<^>^<>><^><^^<^><><^v<><v<^^v^>^^>>^vv>vv>v>^v<v^><^<<<^><^>>^>>>>v><>>^v<^<v><<v^><<^><>^vv<<>^<<^v<>^<v<<<<><>v>>><^v^<^^>>^^v^>v>>^vvvvv><<<<v><>vv<>^<v<>><<vv^<>>^vv^><v^<^v<<>^<v^>^^v>vv<v^v>><<^<>>^<><^<>^><<^^v>^^>v^^<^<v<><>vv>v<v^v<>v<^v^v^><v<vv>^^^v><^>><^<<<<^^><<vv>^<>>>^>>^v>>>^>><>^>>v^<^^>^v>vvv><^<v<<>vvv^<v^>>vvv<v>v<v^<<^<>v<v<><v^v<>>^^>>v>><^vvv>vvv<^<v^^v>><>>v>^<>>^<v<><>^<v^>v^<^v<<<<^v>>^<>>>^><><v>v>><>^^><vv><^v>><>^<v<<>v^<>^vv<<<>vvv><<>^<v^vvvvv<<^<vvv^^^^>^<<^><<^>>v<<<<^<<^^><^^v<^<^<>^>v^^^>v>^>><>><<v<^^<v<<v><^<^<>^^>>>><vv<>><<^>v<>>vv<v^^v>>>^>v^^<>^>>vv>v><>^^^><^><^^<<v<>^^vv>>^v^v<^^><', '>>^v<v><^^<^><v>v<><vv>>><><^v><>v^<><<v^<><^>>><^<>^<^^^<^v^^v^^^<<^>v>^<^^^<^^<^^^><<<<><<^^<<v^<<<^v^><>^^v><><^v<^<^^^><<^v>v>^^^>^^v>>^v<>v<><>v<>^^<vv^<vv^>^^^v<><>v>v<><<<^v<><>>>>^^v^v><v><^<^v^vv<><v^>v^<v>^><<vvvv>^><<v^<<>^<v>^v^<^<^>v>><v<><v>^vv<^<vv<^^>v<v>>v^^><^<>v<v><^^<v<>>v^v^^v^^><^^><<>v^>^^>vv>v>v>><^vv<<<^<<>v<v^v>>v<<v<><<<^^^v^<<vvvv<^>v^<><>v^v^>>v^<><v>vvv^v>^vv>><>>>v^^v>^<^>><>v>>v<vv>><^v>>^^v^<<^v<><><^^<v<v<^^^^<<v^>><>^^<<<v^v^>^>vv><^>^^v>^>^<vvv<<^v^<><vvvv>><v>v^>vv><><<<<<<>v^<<^>^><<^<v<v>v<^v^<<><>^^<v^<<^<^vv>vv<v<v><v>v^^<>vv<^><<>v><<<v>^^<^v^>>>v^<v<vv>>>^v>>v<<vv<<<<>^>^^<v>>v><^vvv><<<><^>^^<><^^v^<^<>v>^>v><>>>^v<<^<v><^v^<><>>^<<>^v^v<^<^^<vv^>v<^v^v^><>><>vvv>^<^>><v>^v^vv>><<vv^>^^^^v>v<><><<><<>^>v><<v>^<^vv<>^v^^>v^^^>^>>>>>>^<^<>v^^>v><^<<^<vv^><^^^><<vvvv<^^^<^vvv>^>vv>>>vvv<<>v^<vv<v^^^<^v^v^><v>v<<vv<>^^>vv>>vvvvv<^><v>><v<v>^^^^<^v<^>>^^vv^>^>>v^<<vv^>v^v>^><v>^<^<<^vv>^^vv>>v^^^<v><v<>^>>><^^<<>^^^<v<^vv>vv^<>v><<<^^>^>^><<>v<><>', '^<v<v>v>v<<>v><>>v^<>v<>v<<v^v<v>><^<^<v>><>><<v^^v^>^v^v<v^v^v^v^<^>vv>vv>vv>^^v>>v^^<vv<v^>>>vv<^v^>^v>v<v><<<<vv<><vv<v^<<<>v<>>v>>>^<<vv^vv^<v<v^><v<<^v^vvv^<<vv^<<>v<^>v^<<v<vv>v>>>>>v<vv<><v<<v<^<^<^v>v>^<v^<>v>v<<<v^<>>v><><>v<^^<v>><^v^<v^v<v><><>>v>^<>^^<<<v^>v>^><v<vvv^^v>^<>^<>^>^<v>^^^^^v>v>>>>v<><<vv^>^>>^>><vvv<v<<v>><<>>^vv>^v^<^>>>><<><<<<v<^^^>v<><vv>>v^^<v<v>v>><^>v>>>^v<<>vvv>>v><v<>>^><<^>v<>v<>^vv^>v^>vv><^<^^<v^><<v^^<^^^<^<^<><^^^v^^<v><^^>>vvvvv^v>vv^>^>^^><>^^><<<><<<v^^<<v^<<v^^<^><<^>v<<<>>^v>v^vv<^<v<>v<>^v<^^>v^^>^<<<^<><v>^^<>^>^<<<><v^>vvv<^><>vv>v><v<^^>>^v^^>^>>vvv<^<^<^vv<>><v^v^<v>^v^<v^><^<<>v><<v>^v^v>>^<vv^<>^vv>^>v>vvvvvv<^v^>vv>>^<><>>>><>^v<>>^vvv^^><<>><>^v<^><<>^v^>v>v^>>^^v^v^v<>v>>v<v^^<vvv>^><>>^^^^^^<>v>vvv>><>v>v<^<>v^v^<<^<>^^^<><<<^^>^^v<<>^v<^>>>v<>^>>v>v<<^^^><^>^v>>^v^v<><<^^^vv^v^vv^<>vv<v>^^v^^><v<^<><<^^^><v^<>^<<^<><^v^vv^v^>^<v<vv<>vv^v>>>v>v>^<vvvv^>><<<vv>v>^>><^<<vv^<>>^v^^<v<v>>vv>v>^v^>v><^^^^^<^^v>v^>^>vv^^<<><>>^v<<v<v>v<', '<><<<vv<v<<<vvv^^>^vv>>v<^v>v^v>v<v>vvvvv<><^v<>><^<<v>^>v<^>><vv>^>^>^v<^<^<^^><><v<^>>v>v<<<v<><>>v<^v>><vvv^<>^^<v^>vv><^>v<vv<v^><v><><^v<^v>v><<>vvv>v<<<vv^>^<>^>>>>><^<><><<^>^><^>^^vv>^<<^<v<vv<>vv<<^>^vv^^v<>vv<v^vvv^^<v><<v>^>v<^<<^v>>^^<>^v^^^^v^v^><>vv>vv<v>^^v<^><>>><>vvv^><<>><>v>^^vv<<vv><<v<vvvv><>v>v^v^v>><^^>v>^^><^>vv^v>vv><v^v>>>^^<>v<>v^vvvvv^v<^><>^^vv^<v^vv>^v<^<<>v>>^v>v^v>^^>^v^^<<^>><v<><<^vv>>v^>vv><v<<vv^<<^<vv>>v<^>>>><<>vv<<>v^>>vv>^<v><^<>^><^<>>^^^<>^v<><v>v>v>^<^^>>v^v<^v>><<>>v^>>^<<v>v<v><^^>vv^>v^<<<^v^>^><<<<v^>>v^vv<<^>v<vv>>v^<vv^v>v<<<v^v^vvvv<v^^^v^vvvv^v>>v<^><<^^v<<<<<<v^^<^^v>^>>>vv^><<^v^^<><^>^<<<<^<<^<<vvv>^^^><v^>v<><<><<^^v^>v^><>v<<v><><>>><<v>vvv<^>v<v^><^v^>v^>vv^<>^<^v^^vv><^^>v><<v><>>v^<^<v>^>^>v<^vv>^><<>v>>>^>>^<v<>^^^<^^v>>>vv<^<<vv<>^v^^<^^<<>v>>>^vvv>^^<vv^<v^<>^vv>^<v^vv>^v<^><v^>v>>v>v<vv^<^<>><vv>^v<^<v<>v>v>>v^>>v>^<v<^<>v>v^v^>v><v>v^>^^>v<<v>>>^v^<v^^>>^^^>>^vv<<^<>^>><<<>>^^<^v^<<vvvv^^v^<<<<<^^<^<^<>^v>vvv<^v<<v>^<^v<vv', '^^<vv>^^<>>^<v>>v><v>^v^^<<<>v>><^v^>>^>>><^>^v<>^<^vv><vv>v<v><^vv<^^<<v<^><vv^v<vv^v>^v^>>^>^^v^<>>v<<<<^<>v^>^vv^>^><v<v><v><>vvv<^<<>vv<vv<^>vv<v>vv><^v^v^^>v>v>^>^^<>>^vv^v<<v<>>>>^^>vv<<<<^^^><v>>^>>^<>>>>v>>^v<vvv^v<<>^^<^^>^>^v><v>^v>>^^^<<v<^vv^>v^<<v^v^<>v>>^v^^v>^v^>>v<>^<^^^>>^^^<^<><<^<v<<>>>v><>^^>>>^v^^<><^<>><v^^>vv<^>><<v^^^<>^<vv^><>>v<vv^^vvv<><><vv><^>^>><^>>v^vv<^v^>^v<>^vv<^<>^>v<>^^><<<>>v^^v^v<vv^^<<v^v^<>^^vvv<<v>^^>^vv<v^<>^^vv^^^^^>vv^^vv<^><v^<>>>^^^^><^^>^v<<>>>vv><<vv^>^<<v<v><<>^<>^<v>^v^^^>v<>^v>v><>^vv>v>^<v<<>v>>^<<>>vv>v>v>^v^^v^>vv>v<v<^v>>><<<>><<>^>>vv<><vv>^>vvv<^^><<^^^<v><^<v^>>>v^^>><><vv^^^v>vv><v<v^>^<^>v<>^v<vv>>v<^v>>><<<><v<<>^v<>>><vv<<<<>>v<^v^vv^^<<<v<>v<vvv<^<>^>^^><^v>>^vv>v>>>>>^><<<><vvvvv^<^<<^>><<<v^<<>v^<>>v<>^^><v^<^<v^v^<>>>>^v^v<v^v<v>^^v^>v>>v^<vv^^>^^^v<^<<^><v^^>^<v>>^v>^<^^<v^><v<^>^>^v>>^>^<>^vv^^>>>^<<<>^v<^<<v<>^^v>^>>^^^^<^^>^v><^><<v>v<v^v<^^^><v<<^>v<<^v^<^<<<v<>>v>>^<<>vv>v><<><>>><<v>>><>>vv^><^^<<v^v>vv<^><v^<<>vv', '>v<^>^^>^vvv<^<v^<><v<^^><^<^>>^^>>>vv>vvv^^><v<^<<v>^<>>^>vvvv<v>v>^^vvvv>>><^>v<<^^^>v<v<>^<^^>^<<><<v>v<^<<>^<v^>^vv<^>vv>^v<>vv<v<^^>v>v^^<^^vv<^>>^v^><<<>v>><^>v>^^v^<<<v><>^<vv^<<<^^^<<v<>>><<>vvv><v>^v<vv><><^>vv^>v^<>v^<<^v^vv>^v^<^<>^<><>vv^^<^v>>^v<v<<^>v<<v^>>v^^^<^v>v<>>^<v^<<v>v^v^^<^^<^<vv^^v<<<><<v^>>v^<<<^>>v^<<^vv^v^<>^>^vvvv^v>v^<>v<^vv<^>>v<<<<<v>>v><^vv>vvvvvv><v<<<^^^<<^v>v>v<<v<^^v^^^>>v^v<<^<v<<^<><<><<<v^^>><^>><>^><>^vvv<^<^v>v>v>^>^v^><^>v><>^^>v^<v^^>^<v<v^^v<^<v^v<>^>vvvv<v><>>^<>^>^>^<vv<><vv>>>v><v^<^<^<><^^^>>^>>>>>v^v^v^<vvvv<>><>^>v^^>>v^<v<v^^><><v^v>>v<^v^v^v^^^>v<v<<v>^^^v>vvv^<^^^>v<v<^><>>^><>vv^<>>^^>><^v<^^^><vvv><^<><^<><vv>v>^<<<>^<>><^vvv^>^<><v<^v^>>^^^^^<<<><<<vv^v^v^><>>>>v<^>^vv>vvvv<^v<<^vvv>v^>vv<><<v<v<^v<>v>>v<v^v>^>>>^v<vv^>>^^<>vv>v^vv<<v^^<v^v>vvv^v^<>^<<<v>>vvvvv^><^>><^v><><<><><><<>^>^^<v^<v>^vv>vv>v<>vv<>>><v>>><^>vv<<>^v^<v>>>^v<<v>^<>^^vvv<^^v^vv^^<^vv^>>^v^v>>vvv^<^>><v><>^v^>>>v<<<v^>v^v^<^<<>^vv^^^>>vvv^^<v^>vvv>><v^vvv<vv<', '^>^<><><<>^>^^v>^v^v^v<<><^<>>><^^<v<vv>v>^v<^^v<^vvvv<vv>^<^v^^>v<<<^v<>v>^v^^v^>v<>v>^^^<<>^vv><v<v^^<v>vv<>>>^<^^v^^>v<<><vvv>v><>v^<<<<vv><^>v^^<^<><>><<>><v^v^<<v>>>>^^>^^<<>^>^<>^><<^<<<<v^<^>v^^v><<>>^v^<<>><<<v><^>>^vv><>>v^v^^v><v<^^<<v^<v^v>^^^><>v^>>^>vv^v<v>v>^^v^>vv<>^><^v<>>^vvv>><>>v<>v>^vv<v<vv<^v>v><<>^v><<^^<<<<>^>><v^<>>^vv^^v>vv>^^<^^<^^><^>vvvv>>^<^v^^<>^v>^>>>^v^>>^v><v>>><<v<>>v^v>^vv<^<^v>v^^<><<<v>^<vvv<v>>><<>^<^<vv><^vv<<^<<>^>^v<<>^vv<>vv>v<vvv^^>^>v>v<v<v<>>><^^<<^>><^v^^<>>^^^v>^<v^^<<<v<^vvv>v^<>>><v<>^^v><>^^<^<>^<<v^v><<v>vv^<<<^^><v<><^<^^^><<v<v<<^><<>^<><>^^v^v>v^v>^<>^><>^^<vv^^vv<^^v^^<><<>v^<vvv<^>>v>>^>v<^^^<<<v<^<^><v><vv<v^>><v<^v^v>v^<^<>v^^v^<^^^>>v^>><^^<<v>>^><^>^v<vv^<v>v^vv<v>v^<<><>^<^<>>^v^v^^><v<v^>><<v^>>^v<v^>^v^>v^^>v^<<<<^v^<>v^>vvv^^>v>>>v^>^<vvv>^^<>v>v^vv<v<v<^>v<><><><<>><><>v^v>^^^<v^^>v>^<>^><><<><v>^v>><^<<vv<>vv>>v<<vv<>^^^>v^^v<vv>^v^v<v<><^<>>>^>v^^>^>^^^v>v>>v<<><>v^^<v<<<>^v<vv>^v<v<^><<<^<v>>^v<^>^>v<<>^^<^vv<<v>vvv>v^', '<<v>^><>^>>>^^^vv>v^>>^<^<>^^<><<>>>>^^^^>^><v>v^v<<vv<vv>^^><<v<<<<<<v<>vvv<^v^<^^vv>v<^v^>^^<<>>^<<^v^^v><>>v<>v>>><<>^>><^>v>^<^v>>><vvv^v<v><>><^<<v^<^^^^v<v^><>v>><>vv>v>^<<^>>>v<>^v<<><^v<><vvv<>v^^>v^<vv<^>>v<^v<>v^^><<^vv^<<<>^v>^>^<<^^<v<><<<<^^<v<<^>v>^^^<<><>^vvv<v<^>^v^^vvv^^>^^<v><^><v>v^<<^^><^v<<^<^^<^^^^>>^v<>^v>v>>^v>v<<v^<><>^^vvv><^>><^^<><v<v>>><^<<v><<v><v^v^^v>><><^>>>^>v>v>><<>v^v><<v^^^<>>>vv^<>^^v^>>>>^<v><>><<<v>><<>>v^<^>v^^><v^^v<<<^<^>^v>^vv^>v>^v^v^<^><><^vvvvv><>v<^<vv^vv^><^v><v>v^>>vvv><<<^^v>^^<>^^>^v^v<^^^<v<<><>>^>v<>^<vvvvv^<v^<>v<^<^^<>^^<><v<>v^^><>v<v>>v><<v<^v>^>>^^vvv<<^>^v^<^<^vvv^^^<^<v>^v<>vv<<v^<v>>>^^>>v<v^<<^<v^^^v^^>><v<v<vv^v<<v<><^^v>^<<vv>>^^<<^^vvv>^>>^<<^vv^v>v<vv<^<^^<<<>^>v<v<>v<>^<vv<v>>v><vvvv<<>>>><>^>vv^^vv><<>><<^v^>>v<<><v^v>>^>^<v><><>>vv>v^><<^>^>><^^<v^^<vv<<><<v^<^^>^v<v>v^vv^^^<v>v^><>v^>v>v^v>><v>vv<>^>^<v<><v<>>v<>><<>^v^^^><><>>>^>vvv>^^<>v<v<v<^^^>>>>^>v>>v><<<^>>>^v<<^>>>>>><>>vv^v<<<>><^<^v^>vv<>v<>^^^^>><>><<>^v<', '<v>v<vvv^vv^<v^^^^^^^<>v<<^vv>v>^v>>^v^vv<>v>^>>>^v^v>><<<><>^<^<>>^^^v<v>^vv>^<><>><>v><v^><<^vv<>vv>v><<>^^v<>^>v<^^^^>>>^>>^^^>>v><>vvvv>>^<<v>v^^v^<vv>v<<<>v^<<vv>><>vv^^>>>^^><v^^^v^^>^^v^^^v^^><<^^><<v^<<v>^v<<^^vv<<^>v<><>v<^v>>><<<^v>>^v>v>^>^v^vv^><<<^^^vv^v^v>><^>><^>^^>v<^<v^^^<v>^v<<>v<>>><v>>v<<<v<vv>v>>v<<>>v<vv^vv>vvv>v^>v<<^^<vv>>v<^^><v<vv><^v<^<>v^<<>>^>^<<<<v<>v>v>><<^v<<>vvvv^v^>v>^<^>^>v^v>^<>>v^^<v>vv>v<^>^^<vv^<<<><<vv>^<<^^v^v<>><vv<<^<vv^<><^^>v^<><>v<>v><^>^><<v^<<^^>v>v^^v^<vv>vv^^v^v<<vv^vv><^<><^>v<v^v><>>vv<^>>^v<<<>><>><^><v>vv<<>vv^^vv<^>><v^^><vvv^^<>>>>v^v><<^vvv^v<v>vv^vv<^^<^>>>^<><<<v>^<vv^^v^v><vvv>vv>>>><^<v<>^vv^^<>>v>^^<<^<^^>>>v<<<>^<>^v^>v<^<<>^v<>>v<vv<v<<vv^>^^<^<>>vv<<vv^v^>><^^<v^v>^v^<v^<>><<^<>^>><>v^^><vv<<v^>v^<<v^>^v<<v>><vv^vv><^^<<v>>>v^v^>^<<v>v^<^^v^<v><>><>v<v<>^<v>v^<<^>v<<v>>><>>^><<^<<v>^^<v>^>^><>>>^vv<<^v>vv<>^^<^vvv<>>>>v>v^<<><>>>>>>^vv<>v<v>><^<vv><>v<^v>^v^v<vv^<<><v>>vv<>^<<<v^v<^vv>v>^<^v<>><v<v>>>v>v^>v^>v<<>v<^<><^><', 'v<v<^v^<<v><vvv<<^^^<^v>>>^^^^<<<^v>^>^<^^>v^><>v<vv><v<<>^^^>vv^v^>^v<^<<<>v<v^vv<>>><^<<^<v^^<^^>>>v<<<^<^v>vv^>^v^vv>^^^^^v><^>v>^<<<<^<v>^^<<^<^><>vvv<>^v>vv>^v>^>>^<^>>^^>^v^><><vvv<<<^^><^>^^<v<<v<v^<^<vv^vvv<^>^^^<v^v^v<v^>^><^^^v<v^^<<<<v^<<<<^<<^<>v>v<<v><<>vvv<v>>><<><>^v>^v><^v^v^<<^>^>v<v<^^^<><v^>^^>v<v>v<>^^^v>^>>v^><^><^vv<^^^<vv<v^vvv>v<>v><<v^<v<>v>>v^<<v>^v^>^v^v<v>^^v<^<>><^>^>vvvv><v^^^v>>^v^>^<>v>^>^>^^<^<>>>v>^>><>><><<<>>>>vvv^<<>vv<v<<v<v^<^>>v>><><>^vv>>><<>^>>v^>^vv<v^<^^>>v<v>>vv<^<><<><<<><><^<>v<>^^<<><vv^<^>>v><<<>v^>v<v<<^<>^v<^>>^>>vvv<<vvv^<<^>>^^v><vvv^^<>>^v<>^<^v^vv>v<<v>v^^<^vv>vvv^><vv<>v^^<vv^>v<<>>^^<>^vv^^<><<<<<>v^^<><v><^>vv<^><>^>>^<^<^^<<><<>^v>vv<>><<>^<<>>^vv^v>v<v^^^v>^v^>v><v>^v><>^^^<v^<>v>>>^<<<^<>v<^>^v<>^vvv><>>vv^<^^<<v^v^<^^vv^<>>^<vvv^^^<vv><v<v><^^<^<^<<><<v<vv<^^^^<>v>^<v<vvv^^^<<v^>^v>>>^>^^^<v<^^>>>^<<<<<<^><v<^v<^v<^<>vv<>>vvvvv>^^<vv^><>^v^>^v^>^>v^>^^v>v^vvvvvv^<v><^^<<>vv><>vv<>vv<vv<v>^>^>v^>>><^<^<^^^<<>v><v<^^><<<vv>^><', '><v<>><v>^^v^<>>^<v>><^<^<<v<v^><<><^>v^^^><<^vv^<<^^<<>v^<^v>v<v^<>v>^><^><<<^v>v<<v<<v>v>>>^><>v<><>v^>v^v>>^v<v^v^<<<<<vv>v<>v>^v<>^v<>>><><^><^>>^^v><^>^>>^^>v>>><^>vvv^<>v><v<<<>v<<^^<>v><<><^v<>>^<v>><vv<vv><>v<^vvv^<^v>^<^><^<v>v<^v^v^^vv^v><vv>^<^<^><<^<v>v<vv><v^^><^<<><<^^v^<v^><^^<><<^<>v>v>>^v<^^<v^v^vv<v>><^vv^v>>^<^^v<v<<>v<^v>^<^><^^>v<>^>v>>v>>>v^>^<vv<v>v^v^<^^<><<<<>^<^vvv>^<vv>v^^>^v^<<>^^>vv><<>>^v><>^v^<<<>v>>^<v>>>^<v>^v>>^<><v>vv^v>>^<><^^>v<v^^><>>^>^>^v><>><v<<>^v^<>><v<<^>><<>^^>>v<<><<^<^<^^<v<^<^v<><^v>v^^^v^<v^^^>v>>^v<^^^>^><vv^>>v<^>v>^^^^>^v^<<>v<^>^><^^^>^>v<^v>>^^>vv<v><<v><^^^v^>>^^>^<v>^>^v<>^<<^^<vv^>><>>>v<<^^>vv^^v><v^^>>v<v<^><vv<v<>^<^<v^v^<><^^<v<><><<vv<^<<><^^<^v^<>v>><vv^<><v<v^>>v^v<v<^v^<<<><v>>v>><vvv<<>^>^vv<><<v^v>^^><<><<v>vv<<<^vvv>v^<><^v<<^<v><<<>><<^>^vvv>vv^v>^^^>v^^>^v>>^^><^v><^v>>^><^>v<><<v><^v<<><<<^^^^>^>v>^^v^^v>>>v^^<<^^>v><^>^<>^^>vv>v^><^<^>^>>>^<v<><^vvv^<>vv<^^<v>><^>>v<v>vv^<v<v<><v><>v^><<^>v>>><<vv<<<v^<<>^vv>>^<^^<', '<<v^^v^^vv>v>^<^>v><<v><^>^v>^v<v>v^v<>>v<>v><>^<<>>^<<<>>^><<<v><>^<vv<>^v<v<<<<>^^<vvvv^>^vvv^><<<><vvv<^^v>v<<<^<<v<><<<vv^<<^<^<v>>>^<>^>>^v>><><v<<>^<^^v^^>>>v>v>^^><>^<<vv>>>v^^v^>>>>>^>v<<>vv^>^>^^^<>>>><v<><><<^vv<v>^v>>^^>^<>>^^^v^><^<><>v>v<^<^<v<>v<><v><v^<vv><^^<>v>v>^^<>>^^><>>v^^<<<v<<>v^v<^<>>v<v>v^<^>>>v>vv<><<<<^><^<^^^<^^^^^^<^^>v<>v<v<>^<><>v>v^<>>>>v^vv>^vvv>vv>>v^>>>>vvvv>^^v^<<^^>>v>>v>^<>><<><v>>^<^v^<v>^<^v>^v^<v<<<>><<v>^>v^^^v^vv>>v<><<>^>v<>v<<>^^><v<vv<<>v><v>^v<v><v^<^^>v>v<^^<^>v^^<^v>>><<>>^^vvvv^vv^<>v><<<><>><>>v<>>>vv>vv<>vv<^>>^<<<><<<v>^>>>v<^<>^vv^^v><>v><>v^>v<^^<<v><^^<v>^v><<><<<>^>v<v<><v>>><>v^<^><^^v^v^^>v<>^^^^v^^v>>>v^<<^<<^vvv<<^vv>vv><<>^^v^vvv<^>>v^>^>v>>><>vv>v>>^^<vv^>v<v>^<<<v^<>^v>^v<v>^<v>vvv<>^v^^^<>v>^<vv^v<^<vvv^<<^>^<>>^>><^<><>>^><><v>^v<^<<v>><^vv><v<>^<><^>^<<>^<vv^v><><>^><>v>^<^<<<^>^<v^><<^<<<vv<<v><^v>^vvvvv<^<vv<vv<>^v<v<v<v^<v<^v>><v><^<<^^^^>^><<^<v^v^v<^v^vv^v<>^^^^v^<^<<><<<>><vv^^>^v<^v>>><^>>v>>><<v^<v^<vv^^<>^>^^^v', '<v>>>^v<v^^^<^><^>v^vv^>>^v>vv^<>^^v^^vvv>><^<^><v>>vvv^>^^>vv<^v>^v><>^>>v<^vvv>v^v>^<^^>>v>>><<<<>v>^v><<^v^<v<>^^^<^v>^>v<>>v>vv^<^^>^>v^^v<<>>><^>v^^vv^>^v>vv<^><<^^vv<v>^v<>^v^<v<>^vv^v<^^vvv>^<>v><vvv><v^v^>>>^<<>v^vv>^v><v>^^><<>^><^>><>><>vvv^^v<v^^^v^^<v<<<>^^<v^>>>vv<v^><^>vvv^>><vv^vv^^>>^>>^<^>><<>^v>^<>vv>^v>><v^v^v>>><<vv^>>v<^^>vv>><>^^^>^<^<<v^vvv<>><^<<v<^v>v><v^^<<v^v>^v^<>^^<><>^v^<>v^v^vv>>>v<<^>>>>^<>^v<^<^^v><<>^v^v^^vv^<<^<>v>>^>>>>^^^>^^>vv>>^v^<v<>^><v>>>v^v>v>><^v^^^<^<^^<><>v<<<vv>>^v<v^>^^<>>><^v<^v>>^<^>><<^v<<v>v<><>v^><vvv>><>^<v>>>^^<<v^><>^>^><^v>v<v^v^<v>><v<v^^>^^>>><<<vv^^^>>^>>^^^^<<v^<<>v><>>v^^<<v><^^v><<>^>vv>>^<<^<^>>^>>v^>vv<>><^v<vvv^^v>^v>vv<^<>><v><<<<vv^>>^v<^<v^>^<><<^>>v<v^v<^^>v>vv>v<<>^^^v^^^>>><^<v^^<v><<^>><v><>^^<<^v^v<>^v<<v<>>><vvv>>^^v<^vv>v>v>>><><^^^v^<^^<^vv<^^><v^><<^^vvv^^>>^><>>^^<vv^^vvv>>^>^^>>><><v^<<>>>vv^vvvvv<<>^^<<vv<>^vvv^>v^^^^>v^vv<<<v^>^v^>^^<v>v<>^v<v><^>vv>^^^<><^v^>>^<>v^v<^>vv^^^>^<^<><<^>^>>v><<<vv>v>><<v^><v', '^^<^v^<<v><<^<^<><^><>vv>^^^<v<>>v<><>^^^>^v>>><>>^<>v^^v<v^<<v<vv^^v<v>^>v<v^>v>^^^<>^<v>><^><vv>>>>>>>^v><v<^^^><<>>v<^<v<^<>v<vv<^<^^^^<^v<>v<v<^>v>v><>><^><>^<v<^>^^^^<^<>v^>>^^^>v^^><>>^>^>><<^><^>>^<v^^v^<><v<>v>>><<<>v<^^>v><<v^^v^<>>v>><v<^v>><>^^>>^^^<>><<>v<^^>^^^^>>>><<v><>>><<^<>>v>>^v^<><>><><^^v^vv^>^<^^<<^<<^^<v^>^<^v>^<^>^<>^<<<v^<>vv><<>^vv><<<>v><<^vv<^>vvv>^^^^>>^<<>v>>v^>v<^v^<><>^><<v>v><>^v>^<><>v<>>>v>>>^^^^v<^>>><><vv><^^<<<>^>>>v>^>^>^<>v<<v<<v<^<<><^^<vvvv>>v><v^v^v^vv^v><v>^><><>vv^v^<^vvv<><v>>v<v<<^^vv^>v^v>vvv^v>><<v^>v><>^v<>v>^^<v^v<v>vv^^>>>><^v<<<<v^v<v^<>>>vvvv^^<v^<vv<<v<v^><>>>><<vv<><>>>vv^^>>^>^<v<><^>^<vvvv^^>>^v^<^>^^<v<v>><v>vvv>^v>v><>v^v>>vv>><^<<v<>^v<^vv^^v>v^>v><><vv><^<<<v^<>>><vv^<>v><<v>^^<v<<<<^v^<^v><>v^<v><><>>^>vv>>^>v<v<>>^><vv^>>^^<<<><^^v>v>>>v^v>^vv^><><>>vv>>>vv><^^<>^>^vv<^^>^^>>>><<^<v>v><><^v>v^vvv>>>>v^>v>>>>>v^>^^v^<<vv^<<>>v<>>v<^v>^<vv>v^>vv<>^>>>^v<<vvv>>^<^^v^v<^>><vv<>>v>><>v<v>v>^<^^^>^><>vv>^<>^v>^<<v><>><<>>>v<^v^^']\n"
     ]
    }
   ],
   "source": [
    "# Day 15 (Part 2)\n",
    "# Define file path\n",
    "file_path = \"Day15.txt\"\n",
    "\n",
    "matrix = []\n",
    "with open(file_path, 'r') as file:\n",
    "    lines = file.readlines()\n",
    "    for line in lines:\n",
    "        matrix.append(line.strip())\n",
    "    \n",
    "print(matrix)"
   ]
  },
  {
   "cell_type": "code",
   "execution_count": 16,
   "metadata": {},
   "outputs": [
    {
     "name": "stdout",
     "output_type": "stream",
     "text": [
      "['##################################################', '#..#..OOO...O.OO..#....O.#.....O.##.........O....#', '##..OO.OO.O..##...O....O.O#.O..O.#....O..O#...OOO#', '#O..O.O....#....O.O...O.....#.#.O....#OO##.O.O.O.#', '#O.O...O.OO.O.#OO...O...O..O.#OO.O..O....OO...OOO#', '#O.#.OO.OO.O..O...OOO..#.O.O#O.#......#O...#.....#', '#...#O...O.O.......O.OO...O....O..OO.O....O.OO..O#', '#O#.O.OOO...O#O.........OO...OOO...#.......#..#..#', '##.O......O..O...O.#........O...O..O......OO.OOOO#', '#...O..O........O..O.O.O...............O...#.O.#.#', '#O..OO.......O....O...#.O.O........O#.OO.O...O...#', '#....OOO....O.......OO..OO.O...O..OO..OO..O..O.O.#', '#OO.O....OOO.O.O....#.O..O.....O..#.O....O..O..O.#', '#.....O...OOO.O....O..OO.OOO..#O#O...OO..O#.O.O.O#', '#..........O...O......OO.O..OO.O.O...OO.O.#....O.#', '#.O..O.....O.O.O.#OO.O...O....O.O..OOOO.O......O##', '#O.O...#..#..#......#O.#....#..O#O.O..O.....O.O#O#', '#O.OO.O...O..#...O.#......O..O..O#....OOO.O.OO...#', '#O....#.OOO..O...O..#.O..O.O....O..#.....O..OO.O.#', '#....OO.........OO.#.O..O...#.O...#.O..OO.O#...O.#', '#..#.O.O##....O.........#O.O.....#.#......O.O....#', '#.........OO#.O.........OOOO...OO#.O#..O..O.#.O#O#', '#...O...O...O....O..O..#......O..O..O..O#O#....#.#', '#O.....#..OO..O.....OOO.#..O..O..O..#O..O...OO.O.#', '#..O...O...O....O.....O.@..OO....#.......OOO#O...#', '#.OO.O..O....##...O....O#O..O.O....OO..O#.....O.##', '#.O.......##.##..#OOOO..OO....#.O#.......O...OO..#', '#....#.O..O..O....O....O.OO.O...#OO.....O...O....#', '#O......O.....#.#O...O..O..O..O.......O......O.OO#', '#.......O#.#.#....O..OO....O.O.OO......O.O..OO...#', '#...#O..#....#...OO..O....O#..#...O...O...OO.O..O#', '#.....#.O..#.O.#....O.O..O#.#..O..O.#....#....OO.#', '#.#O#....O..O..#.OO...#.OO....O......O#OO.O.O....#', '#O.O..O.OOOOO....#.O.....O..OOO#...O#O..O.O...#.O#', '#.OOO.##O.O.#..O.OO.OO.OO.#O.O.OOO...O.....O.O...#', '#.O..O...OO.O...#..O..O...#..O.OO....O.....O...#O#', '#O.....#.OO.O..O..........#...O.O.O.....OOO....O.#', '#..OO..O#.O.O#O.O#O.#.#O..O#..O...#....#.#.#..OOO#', '#.#O....##...O#O...O#..OO...O....OOO.O..O.O.#.#.O#', '#.O.O..O...O.....OOO.O......O....O#...O.O#.O#OO#.#', '#.O.......O.......#.O..OO.....OO#..#..#.....O..O.#', '##O...OO...O.....O.O...O...#...O.O....O.O#.O....O#', '##....OO..#OO.#...#..OOO..##.O#.....O...O.#......#', '#....O..O#.........O.............O..#OO...OO.OO..#', '#O....O.OO#..O....O...O......OO......O..O.#O.O..O#', '#.O.......O...OO.O......O.OOO......O..O....OO....#', '#OO.O.O...O...O.O..O..O.......O.#..O..O...O..OO..#', '#..O..O...O#....OO..........O.#OO......O..O.O....#', '#O..OO#.O..O##..#....O...O.O..O......O....O.O..#.#', '##################################################', '', '^>v^^>vvvvv><vvv>vv>v^v<v<<<<><v>vvvvvv<^vv><v^v>><v<^><vv^^^<<<v>>v<<v^>v<<>v^^v>vv><^>><>v^>^^v<vv<<>vvv<^v<^vv><><vv<^^^v^><<vvv<<^>>^<<>^v>v^<^<^v>v>v>><v>vv^<^^>><<>^^v^<><^>^^<v^>><^v<><^v><<<v>^^>v^<^>>><^>^^^<<<v^><v<v>vv<^<v<^>v>>>vv<^<^>v<^><><<vv^v^<<^<>^>v<^v><vv><v>^^^^v^<><^^^^^v<vv<^<^^^^<v<vv<v<^vv<<^<v<<^^<<^><<<<vvvv<<>>^<<v<v^^>vv<^v^^^>><>^<^^><v^^vv^v<<^^^<<>v^>v>v<<^<>>>>><><v^<>^^><^<v>><<>><v^<v><<v<^v<<>vv<>^<>^>v>>^^^^v<<^vv><<<<^v^<>v<>v>v><>v<v<^vv^<^vvv>>^<><v^^>^>v<v>>v^>v^><^>^<^<>^>><<<<>^vv<<^>v>^<^><v<>>^>v<^<v^^>^><<v<^v^>>>>^v<><>vv<^>^^>vv<v^>vv^>v^^>^^v<>>v><^vvv<<<<><v<v^<^^^v^^<>>v<vv<<>v><>vvv^<^v^vv^>^>vv>>>^^<<<v<^><>v^^^<<>^<v<^>v>>>vv^<v<v^>^^vv<>v><<^^<>>v><><v<>vv^<^^vv>>^v^v<>^^<^>vvv<^>vv<^<^v>><^^^v><^>><^<^<<v<^<v<<^v>v<^v<^<<>^<<<><v^>>^^v>v<^<<>vv<v>^<vv<>v>v>v^vvv^<v<^<<>^<>v^^><^>v>v^^>>>>><<<<<<>^>><^<v^v<<v^^v>>^v<vvv><<<<vv>v<>v<>><<><^<v<>^><<^<vv>^><>vv^^>vv>>^vv^>^^v^<<v>>>^<v<<v>>vv^<>vvv^>^>>v^v^^^vv^vv^<vv^>v^^^<>v^<v<^>vv', '<v>>v^^v<><><vv^<vv<>^<^>v>v>^>^v^^>v<><^v>^^^<v^v>^<<vvv>>^<<>v><^<^^^<v><<v<^^^><<vvv>v^><<^<<>^^>^><>><^v<<<v<>^^^v<^<<vv<^vv<v^<^^v>v>^<^>^>>>^<^vv^><>^^v^>vv^v>^<<<vv<^>^<<^>>^^>vv<^<v>^v<^<v<vvv>vv^<<^<>vv<<>^v<^<<<<^v<>^>v><vv<^v^^v>>>><vvv<vvvvv>vv<v^<^^^<^vv>v<^v^^^<<^<^v^<^<^><^>^<<<>v<>v>v<^vv>>>v><<vv^>v>^^^v>><<^>^v><^>^v^>^><v<>><^<><^vv^<^<><^^vv^^><v^^><<^>^>>v^^>^^vvvv<><<>^vvvv^vv<^>^><<v^<><v<vv^>^^<^<v^^>^vv^v^><<v^^><<><^<<^vv^^<>>>^^^vv>v^<^<vvv>^v>^^v>>>><><>v^vv>v>vv<vv^vvv>vv^<^^v<<>^v<><>vvv^>>>^v>><vv<>v^v<>>>>^<^^<v>>^>^>v^>>v<>v^^^v<^vvv<><><<^<v<>^>>>^v<v>>>>^^><<<<<^^<^<^^>^<>vv>^>vv>v>^<><vv>>^v>v^^<<^>><^vv>v>^>^>^<<^v>^v<^<<>>v^>^v>v>v>><<<^^<^^^<<><>><<^<^^v^v^>v^^><v>>v>^<v^v>>vv^><v>v><>>>>>>>^^v<^>>>v<<><v<><^<>^v<^^<<^<^^vv>^v^^vv<<^vvvv><<<v><^^^^>>^<<><<>>vv>^^<<^><<<v<^><^^^<<>v^^^<<<vv>v<v>^<v>vv>v><vvv>vv^v^v<<v^^<v<>^^<><<<><v<^^^<vv<v>v>>>>v<^v<^^^>>^>^^<>^<<>^v^^><>>><<<<v^v>^^v>v<>>v<v>>v^v^<^<^><^<v><^^vv<^^<>v<><v>^v><^^<<>^<>^<<>^v^vv<', '><^^>><^<<<>>v<vv<>>^<<^<>v<<>>>^v>^<>v<^^>>v>^v>><^<<^><^<>v<>^v>><<<<<vv^v^>>>^^^>^<^>^>v^v<<v<>vv<^^<>>><vv>^><^^<<><>>^>v>^^>^<v<>^v>^><<^^>>vvv^<v^^>><><^<^>v^^v>>>>v^<>>v^^<v>^>><<>>>>>><<^^<><<vvv>vv^^v>v<^^vv>><>>^v<<>^v>^vv><^>^^vv>^v><>>>v^^<><^vvv>^^^<>v<>^v>>^vv<^<^<<><>vv<<^>>^^^<v><v<<><>^><>^v>^<>^<^>^>><^<>v^^<><^^<>v^<^v^<<<>v^<vv>>^>>^^^>>v>>>^^v><>>>><><^^<^v<<^v^^^<v>^v<><<v<v>>v^v><^<>>^<^v^^>>^>v<^<>>^^v>>vv^>^>^^><><v>^v<<^v^vv^vv^^>>>^^v><v>^<vv^><<<vvvvv>>^v><<<^><^<><<<>>^^^^>v>v^<^v^<v^<^vv<^^^v>>^v<^>v<^>>>^<^v^<<>vv^>><><v>v<v>>^>>>>v^<<>^><<^><^>^>><>^^v>><^^<^^vv><^v^<v<vvv><<v<>v^<><^>v<v^>>>vv^<<v^v<><<^v<><v>>v^v>^v^<v^<^^vv<<<>>>v<<<v^vv^v<><vv<><<>>^^<^>v><<v<^>vvv>^vv^vvv<<v^vv>^vv<>v<>v<v^<<<^vv>^^^^>^>>>><<<<^^<>>>^><^^><<<<<>v>^v><^><v<^<^v^><^^^<>>^^<vv<v^>>><^<>>^v>^<vv^v<^>>^<>>>v>>>>v^v^><vv^<<v<vv>^<v<>^^>v^>><>>^<<vvv^>^<>^<^<>>^^<<<<vv>>v>><vvvv>v^<^v<>^^v<<^v>>>^^<<>>vv><><>vv<^<v^<>^>vv>^<>vv>^vvv^v<>^<>vvv^v<vv<><^^v<vv<^>^><<v>><v>>^^^', '<v<v><<<^^^^>v<^^>v>v>v>>>v><<^^<^<v^<^>>>^^v>^><^v>>><><v^v><><v<<><v<>vv<>v><<>^v>^v<<^<<^<vv^v><>v^>v<><<v^<v>^^<><<v^v<^<>^<><>>^v^^^v>vvv<v^v^^><^><^v<>>>^<^>v><^<^^^^vv><vvv>v>^><^^v>v^v^v>><>^<v^v>>^v<^<>>><><>vv><>^<^^^^v^<^<<<>^><^<>>v<>^>v<^<^<^<v>^^v>vv>vv<^<<^<<^>vv><v<><<<^v>><^><<>v^>v>v^<<vv<vv<>>^vv^>v<>v^<v>v>^v>>>^<^^v^<<>vvv<vv><>^<><^^^v>v^^<^v>>vv>v^v>v^v>^<^^<<^>>><^^vvv^^>>^>>><^v><^^<>^>v<>>^v<^^vv>v<^>v>^<vv^v^^^^v<v<>vv<<>v^v>>vvv^<>v^vv^^^>v<>>^<^<^v>vv^^><^^>v<>vv<^vv^<<vvv^>v^v<<^<vv>v><>^^<^>vv>>^>><vv>^>^<v<^^>v^>v^^<>v>^>vvvvv>>>>^^><>>^<>vv<v<^^>vvv^^<v^^<^<v^v<vv^<>>^<^>>^^<v^<v^<<<>><v<><vv<^^><^vv>vv>>v^>^><>>v<<v^vv<v>>>^^<v><<>><><>^v<<^>v^<^^<v^^^v>>^>^<>^>>^>>^<vv^^<<v><>^>vvv><v<><<<<^v>>>^^>><^^^vv^^><<^v>><^><<v^<v>>v><<v>^>^v<><<<<^v<vv>v<^^^<^<>^>>>^><<<^<>><v^^<<<<<v>^>vv^v^^>^>>v><^<<>>v<^>vv>>><^^>vv>>^>^><<^v>>vv<v>vvv<>vv>v<><>>^>><><v<>>>v^><>^v^><^^<^>v>vv^>>v>^^v^<<^^^<<<<<<>v^v^^v><><v<^>v^><<vv^<vv<<>>^><>v<v>v<v<^vvv<>^>^<<v^>>v<>', 'v>^<<^>v^v^>><vv<vv<><<v^vv><^<v<<^v>>>vvv>^<>vv>v<^><<>v^>v>v<^vv>^^v<vv>><<vvvvv<<v^v^<^<^>^v<vvv><><>^<<v<vv<^^^><^>^<v<v^>>^^^v>^>^<^^^<<vv^^^><^>v>>v>>v>>>^<v<^vv<^vv<>^><<^v^>^<><^>v<<>>v^>>vv<^^^^><^>v>>^>v<^>><^^vvv<v<v^v<<^^v^^>v<^v<vv^><<^<^v>^vvv>vv^>v<vv^^<<><v<<>>><v^<>^v<<<<<>v^>><>v>>^>^<^v<<<v<^>^<<^<<v>><><><>^>v^v<^^^<v^v>v>v>>v<>^^>^<<v^^<>>^<>^^><v>v^><<<>v<<<<^^^^^><>v<><v><>>vv^vvv>^<<^<>vv^>v>>><v>><<><>^<v<<v^>^^v>>^^<^>v><^<^<<v<v^<<>>v>vv<^>v>^<>^<^vv^^^^vvvv><<>^v>v<v<^^v^<><vv>^>^>>vvv<<v^v>^<^^>^>^v<>>^<v<v>v><>^>v^^>^<^<^<vvv^<<><v>^v<v^>>>>>^><^>v><>>^^>v>><^>^^vv<v>vv>^<^^vvv^>><v><^<^<<^<>v^<vvvvv<><<<^v^v^<v>>v^v>v<><v>^><v^v<^<<^<v<^^^><><<^<>v>^^^<v<<vv>><<v>^<v^<>v>>^^^^^><>vv^>>^^<>^v^^v><<<<^>v^<v<^><<v<>^<>^vv^<^<<<v^><v<<^<>v^^>>^<vv>^<<>^^<^>^v^><^<v^><><<^<v^v^^<^v><v<^^<v^^^^<v^>^<^<>><^>>^v><^<^v<^vv<<>^^v^v^<>v<<^vv><>^>^<v>^^^<v^<<^vv>>^<>^^^<v>^^^<v<><^>v^v^><<<^<^>^^v^>vv<^v^>>>vv>>^^^<v<v<^vvv^<^<>>>><>>^vv<>v^><>>^^<<v^<<>^<<>^vv^^^^^v', '<^>^>v<^<vv^<v>^<^<^<^v>v<v^^^>>v^>^^^<>>^><>v^>>>>^vvv^vv<<<>vv<<v<>vv<>^v<v>^<^><^^vvv<v<^>v^<<v<<<v^<v<<><^>^^<<>>>><^v><>^>v>vv<v<>>^><v^^^^^v<<^vv<^^^<v>^<<<<<>><<^vv><<^^<><<v<<^v^<><v<vv<v^>^v>>^<<^<><<<^<><v^v^>v><>v^v^v>^v<<<v<>v><>><^v<v^v^v^<v>vv<>>vv^>v^>><<^<v>v^>vvv^>v>vvv>^<v>v<>v<^>^<><^<v^><><v>><v^v>v>v^<>>^vv<>^><^^<^^^<>v>v^^<<><^v>^<v>>v><v<<v><>v>^v>^<v^>vv<>^v^>>>>>v>^>vv^^<v<>v^<>vv^vv>v<^v>^^^vv>>^^>^><>^v>>>^^^v>^v^<^v<<<<<<^^<v<^^<>^v^^><><^vvv^^v^^^^>>vvv<v^><vvv^v<><<v^<<<vv><<v<^^^vv^v<>>v<v<><^v>><<<<^<<^>vv<v<vv>v^v^v^^><<<^v^^<vvv^^>^>vvv>>^v>v^v<^<^<^<<^<>^>^v>^vv^^v>^^v<^>v><>v><<<^<>^^>vv^^<^vv^>^>><>>v^^>>^v<v>^^<>>>>><<>>^^v<^>v^vvv>><<>^>>><v^>v<>><v>^^vv<>>^v<<<<<<v>^v>^<><^^<>^^v^^^<^^<>v<>vv^^>>vv>><<vv>><v^<>^>^^^v>^><^^v^<<^<>>>^<>>>>^^^^v^^>v>v>v^>v>^<<<^><>v>^^>vv<^^<^>vv^<^vvvv<v<^^^><v>><^<^<<>v^>v^<v>^^<>^>>><>>^<^^^^<<^><<>vv>v^v>^^<vv<><v><v>>>vvv<<>^v<<^^>^v>^^>v>>>^^<v<>>vv<^<vv>v^<^>^^^v>^^>>v^^v^v^>>^^^>><<^>^^v<^>>^vv^^v<<^<<<^<^<', 'vv^v<^vv>>v<>v<<v^v>>>>>vv<^v<<^>><v<<vvv<^^>>v>>^v<v<>>v^v<<>>^><vv^<^^^<^vv<>>>vv<^<<<^><>^^>><<>vvv^v<v<<^>^v>><^<v>^<<><>^^>>>>^^v<>^<^<v>v<vv<<^^>^^>>^v>>>>v>v<^<v>v>^>><<v^<>><<>^^<vv>v>^>^v<v><<v><>^^v<v<<>>v^^^<<><<<>vvv<v>v>>>>>>><vvvv><vv^v>>><<^<>><v^<v>vv<>v>^<<>><vv><<v>v>>><v<^<>>>>^^<>v<>^vv>>>>>^^vv><>v><<^<v<<^><v>^<<^^v<<><^>^^>v<<vv<<vv<^^^^<><^^^<^>^<>><^><^^<^><><^v<><v<^^v^>^^>>^vv>vv>v>^v<v^><^<<<^><^>>^>>>>v><>>^v<^<v><<v^><<^><>^vv<<>^<<^v<>^<v<<<<><>v>>><^v^<^^>>^^v^>v>>^vvvvv><<<<v><>vv<>^<v<>><<vv^<>>^vv^><v^<^v<<>^<v^>^^v>vv<v^v>><<^<>>^<><^<>^><<^^v>^^>v^^<^<v<><>vv>v<v^v<>v<^v^v^><v<vv>^^^v><^>><^<<<<^^><<vv>^<>>>^>>^v>>>^>><>^>>v^<^^>^v>vvv><^<v<<>vvv^<v^>>vvv<v>v<v^<<^<>v<v<><v^v<>>^^>>v>><^vvv>vvv<^<v^^v>><>>v>^<>>^<v<><>^<v^>v^<^v<<<<^v>>^<>>>^><><v>v>><>^^><vv><^v>><>^<v<<>v^<>^vv<<<>vvv><<>^<v^vvvvv<<^<vvv^^^^>^<<^><<^>>v<<<<^<<^^><^^v<^<^<>^>v^^^>v>^>><>><<v<^^<v<<v><^<^<>^^>>>><vv<>><<^>v<>>vv<v^^v>>>^>v^^<>^>>vv>v><>^^^><^><^^<<v<>^^vv>>^v^v<^^><', '>>^v<v><^^<^><v>v<><vv>>><><^v><>v^<><<v^<><^>>><^<>^<^^^<^v^^v^^^<<^>v>^<^^^<^^<^^^><<<<><<^^<<v^<<<^v^><>^^v><><^v<^<^^^><<^v>v>^^^>^^v>>^v<>v<><>v<>^^<vv^<vv^>^^^v<><>v>v<><<<^v<><>>>>^^v^v><v><^<^v^vv<><v^>v^<v>^><<vvvv>^><<v^<<>^<v>^v^<^<^>v>><v<><v>^vv<^<vv<^^>v<v>>v^^><^<>v<v><^^<v<>>v^v^^v^^><^^><<>v^>^^>vv>v>v>><^vv<<<^<<>v<v^v>>v<<v<><<<^^^v^<<vvvv<^>v^<><>v^v^>>v^<><v>vvv^v>^vv>><>>>v^^v>^<^>><>v>>v<vv>><^v>>^^v^<<^v<><><^^<v<v<^^^^<<v^>><>^^<<<v^v^>^>vv><^>^^v>^>^<vvv<<^v^<><vvvv>><v>v^>vv><><<<<<<>v^<<^>^><<^<v<v>v<^v^<<><>^^<v^<<^<^vv>vv<v<v><v>v^^<>vv<^><<>v><<<v>^^<^v^>>>v^<v<vv>>>^v>>v<<vv<<<<>^>^^<v>>v><^vvv><<<><^>^^<><^^v^<^<>v>^>v><>>>^v<<^<v><^v^<><>>^<<>^v^v<^<^^<vv^>v<^v^v^><>><>vvv>^<^>><v>^v^vv>><<vv^>^^^^v>v<><><<><<>^>v><<v>^<^vv<>^v^^>v^^^>^>>>>>>^<^<>v^^>v><^<<^<vv^><^^^><<vvvv<^^^<^vvv>^>vv>>>vvv<<>v^<vv<v^^^<^v^v^><v>v<<vv<>^^>vv>>vvvvv<^><v>><v<v>^^^^<^v<^>>^^vv^>^>>v^<<vv^>v^v>^><v>^<^<<^vv>^^vv>>v^^^<v><v<>^>>><^^<<>^^^<v<^vv>vv^<>v><<<^^>^>^><<>v<><>', '^<v<v>v>v<<>v><>>v^<>v<>v<<v^v<v>><^<^<v>><>><<v^^v^>^v^v<v^v^v^v^<^>vv>vv>vv>^^v>>v^^<vv<v^>>>vv<^v^>^v>v<v><<<<vv<><vv<v^<<<>v<>>v>>>^<<vv^vv^<v<v^><v<<^v^vvv^<<vv^<<>v<^>v^<<v<vv>v>>>>>v<vv<><v<<v<^<^<^v>v>^<v^<>v>v<<<v^<>>v><><>v<^^<v>><^v^<v^v<v><><>>v>^<>^^<<<v^>v>^><v<vvv^^v>^<>^<>^>^<v>^^^^^v>v>>>>v<><<vv^>^>>^>><vvv<v<<v>><<>>^vv>^v^<^>>>><<><<<<v<^^^>v<><vv>>v^^<v<v>v>><^>v>>>^v<<>vvv>>v><v<>>^><<^>v<>v<>^vv^>v^>vv><^<^^<v^><<v^^<^^^<^<^<><^^^v^^<v><^^>>vvvvv^v>vv^>^>^^><>^^><<<><<<v^^<<v^<<v^^<^><<^>v<<<>>^v>v^vv<^<v<>v<>^v<^^>v^^>^<<<^<><v>^^<>^>^<<<><v^>vvv<^><>vv>v><v<^^>>^v^^>^>>vvv<^<^<^vv<>><v^v^<v>^v^<v^><^<<>v><<v>^v^v>>^<vv^<>^vv>^>v>vvvvvv<^v^>vv>>^<><>>>><>^v<>>^vvv^^><<>><>^v<^><<>^v^>v>v^>>^^v^v^v<>v>>v<v^^<vvv>^><>>^^^^^^<>v>vvv>><>v>v<^<>v^v^<<^<>^^^<><<<^^>^^v<<>^v<^>>>v<>^>>v>v<<^^^><^>^v>>^v^v<><<^^^vv^v^vv^<>vv<v>^^v^^><v<^<><<^^^><v^<>^<<^<><^v^vv^v^>^<v<vv<>vv^v>>>v>v>^<vvvv^>><<<vv>v>^>><^<<vv^<>>^v^^<v<v>>vv>v>^v^>v><^^^^^<^^v>v^>^>vv^^<<><>>^v<<v<v>v<', '<><<<vv<v<<<vvv^^>^vv>>v<^v>v^v>v<v>vvvvv<><^v<>><^<<v>^>v<^>><vv>^>^>^v<^<^<^^><><v<^>>v>v<<<v<><>>v<^v>><vvv^<>^^<v^>vv><^>v<vv<v^><v><><^v<^v>v><<>vvv>v<<<vv^>^<>^>>>>><^<><><<^>^><^>^^vv>^<<^<v<vv<>vv<<^>^vv^^v<>vv<v^vvv^^<v><<v>^>v<^<<^v>>^^<>^v^^^^v^v^><>vv>vv<v>^^v<^><>>><>vvv^><<>><>v>^^vv<<vv><<v<vvvv><>v>v^v^v>><^^>v>^^><^>vv^v>vv><v^v>>>^^<>v<>v^vvvvv^v<^><>^^vv^<v^vv>^v<^<<>v>>^v>v^v>^^>^v^^<<^>><v<><<^vv>>v^>vv><v<<vv^<<^<vv>>v<^>>>><<>vv<<>v^>>vv>^<v><^<>^><^<>>^^^<>^v<><v>v>v>^<^^>>v^v<^v>><<>>v^>>^<<v>v<v><^^>vv^>v^<<<^v^>^><<<<v^>>v^vv<<^>v<vv>>v^<vv^v>v<<<v^v^vvvv<v^^^v^vvvv^v>>v<^><<^^v<<<<<<v^^<^^v>^>>>vv^><<^v^^<><^>^<<<<^<<^<<vvv>^^^><v^>v<><<><<^^v^>v^><>v<<v><><>>><<v>vvv<^>v<v^><^v^>v^>vv^<>^<^v^^vv><^^>v><<v><>>v^<^<v>^>^>v<^vv>^><<>v>>>^>>^<v<>^^^<^^v>>>vv<^<<vv<>^v^^<^^<<>v>>>^vvv>^^<vv^<v^<>^vv>^<v^vv>^v<^><v^>v>>v>v<vv^<^<>><vv>^v<^<v<>v>v>>v^>>v>^<v<^<>v>v^v^>v><v>v^>^^>v<<v>>>^v^<v^^>>^^^>>^vv<<^<>^>><<<>>^^<^v^<<vvvv^^v^<<<<<^^<^<^<>^v>vvv<^v<<v>^<^v<vv', '^^<vv>^^<>>^<v>>v><v>^v^^<<<>v>><^v^>>^>>><^>^v<>^<^vv><vv>v<v><^vv<^^<<v<^><vv^v<vv^v>^v^>>^>^^v^<>>v<<<<^<>v^>^vv^>^><v<v><v><>vvv<^<<>vv<vv<^>vv<v>vv><^v^v^^>v>v>^>^^<>>^vv^v<<v<>>>>^^>vv<<<<^^^><v>>^>>^<>>>>v>>^v<vvv^v<<>^^<^^>^>^v><v>^v>>^^^<<v<^vv^>v^<<v^v^<>v>>^v^^v>^v^>>v<>^<^^^>>^^^<^<><<^<v<<>>>v><>^^>>>^v^^<><^<>><v^^>vv<^>><<v^^^<>^<vv^><>>v<vv^^vvv<><><vv><^>^>><^>>v^vv<^v^>^v<>^vv<^<>^>v<>^^><<<>>v^^v^v<vv^^<<v^v^<>^^vvv<<v>^^>^vv<v^<>^^vv^^^^^>vv^^vv<^><v^<>>>^^^^><^^>^v<<>>>vv><<vv^>^<<v<v><<>^<>^<v>^v^^^>v<>^v>v><>^vv>v>^<v<<>v>>^<<>>vv>v>v>^v^^v^>vv>v<v<^v>>><<<>><<>^>>vv<><vv>^>vvv<^^><<^^^<v><^<v^>>>v^^>><><vv^^^v>vv><v<v^>^<^>v<>^v<vv>>v<^v>>><<<><v<<>^v<>>><vv<<<<>>v<^v^vv^^<<<v<>v<vvv<^<>^>^^><^v>>^vv>v>>>>>^><<<><vvvvv^<^<<^>><<<v^<<>v^<>>v<>^^><v^<^<v^v^<>>>>^v^v<v^v<v>^^v^>v>>v^<vv^^>^^^v<^<<^><v^^>^<v>>^v>^<^^<v^><v<^>^>^v>>^>^<>^vv^^>>>^<<<>^v<^<<v<>^^v>^>>^^^^<^^>^v><^><<v>v<v^v<^^^><v<<^>v<<^v^<^<<<v<>>v>>^<<>vv>v><<><>>><<v>>><>>vv^><^^<<v^v>vv<^><v^<<>vv', '>v<^>^^>^vvv<^<v^<><v<^^><^<^>>^^>>>vv>vvv^^><v<^<<v>^<>>^>vvvv<v>v>^^vvvv>>><^>v<<^^^>v<v<>^<^^>^<<><<v>v<^<<>^<v^>^vv<^>vv>^v<>vv<v<^^>v>v^^<^^vv<^>>^v^><<<>v>><^>v>^^v^<<<v><>^<vv^<<<^^^<<v<>>><<>vvv><v>^v<vv><><^>vv^>v^<>v^<<^v^vv>^v^<^<>^<><>vv^^<^v>>^v<v<<^>v<<v^>>v^^^<^v>v<>>^<v^<<v>v^v^^<^^<^<vv^^v<<<><<v^>>v^<<<^>>v^<<^vv^v^<>^>^vvvv^v>v^<>v<^vv<^>>v<<<<<v>>v><^vv>vvvvvv><v<<<^^^<<^v>v>v<<v<^^v^^^>>v^v<<^<v<<^<><<><<<v^^>><^>><>^><>^vvv<^<^v>v>v>^>^v^><^>v><>^^>v^<v^^>^<v<v^^v<^<v^v<>^>vvvv<v><>>^<>^>^>^<vv<><vv>>>v><v^<^<^<><^^^>>^>>>>>v^v^v^<vvvv<>><>^>v^^>>v^<v<v^^><><v^v>>v<^v^v^v^^^>v<v<<v>^^^v>vvv^<^^^>v<v<^><>>^><>vv^<>>^^>><^v<^^^><vvv><^<><^<><vv>v>^<<<>^<>><^vvv^>^<><v<^v^>>^^^^^<<<><<<vv^v^v^><>>>>v<^>^vv>vvvv<^v<<^vvv>v^>vv<><<v<v<^v<>v>>v<v^v>^>>>^v<vv^>>^^<>vv>v^vv<<v^^<v^v>vvv^v^<>^<<<v>>vvvvv^><^>><^v><><<><><><<>^>^^<v^<v>^vv>vv>v<>vv<>>><v>>><^>vv<<>^v^<v>>>^v<<v>^<>^^vvv<^^v^vv^^<^vv^>>^v^v>>vvv^<^>><v><>^v^>>>v<<<v^>v^v^<^<<>^vv^^^>>vvv^^<v^>vvv>><v^vvv<vv<', '^>^<><><<>^>^^v>^v^v^v<<><^<>>><^^<v<vv>v>^v<^^v<^vvvv<vv>^<^v^^>v<<<^v<>v>^v^^v^>v<>v>^^^<<>^vv><v<v^^<v>vv<>>>^<^^v^^>v<<><vvv>v><>v^<<<<vv><^>v^^<^<><>><<>><v^v^<<v>>>>^^>^^<<>^>^<>^><<^<<<<v^<^>v^^v><<>>^v^<<>><<<v><^>>^vv><>>v^v^^v><v<^^<<v^<v^v>^^^><>v^>>^>vv^v<v>v>^^v^>vv<>^><^v<>>^vvv>><>>v<>v>^vv<v<vv<^v>v><<>^v><<^^<<<<>^>><v^<>>^vv^^v>vv>^^<^^<^^><^>vvvv>>^<^v^^<>^v>^>>>^v^>>^v><v>>><<v<>>v^v>^vv<^<^v>v^^<><<<v>^<vvv<v>>><<>^<^<vv><^vv<<^<<>^>^v<<>^vv<>vv>v<vvv^^>^>v>v<v<v<>>><^^<<^>><^v^^<>>^^^v>^<v^^<<<v<^vvv>v^<>>><v<>^^v><>^^<^<>^<<v^v><<v>vv^<<<^^><v<><^<^^^><<v<v<<^><<>^<><>^^v^v>v^v>^<>^><>^^<vv^^vv<^^v^^<><<>v^<vvv<^>>v>>^>v<^^^<<<v<^<^><v><vv<v^>><v<^v^v>v^<^<>v^^v^<^^^>>v^>><^^<<v>>^><^>^v<vv^<v>v^vv<v>v^<<><>^<^<>>^v^v^^><v<v^>><<v^>>^v<v^>^v^>v^^>v^<<<<^v^<>v^>vvv^^>v>>>v^>^<vvv>^^<>v>v^vv<v<v<^>v<><><><<>><><>v^v>^^^<v^^>v>^<>^><><<><v>^v>><^<<vv<>vv>>v<<vv<>^^^>v^^v<vv>^v^v<v<><^<>>>^>v^^>^>^^^v>v>>v<<><>v^^<v<<<>^v<vv>^v<v<^><<<^<v>>^v<^>^>v<<>^^<^vv<<v>vvv>v^', '<<v>^><>^>>>^^^vv>v^>>^<^<>^^<><<>>>>^^^^>^><v>v^v<<vv<vv>^^><<v<<<<<<v<>vvv<^v^<^^vv>v<^v^>^^<<>>^<<^v^^v><>>v<>v>>><<>^>><^>v>^<^v>>><vvv^v<v><>><^<<v^<^^^^v<v^><>v>><>vv>v>^<<^>>>v<>^v<<><^v<><vvv<>v^^>v^<vv<^>>v<^v<>v^^><<^vv^<<<>^v>^>^<<^^<v<><<<<^^<v<<^>v>^^^<<><>^vvv<v<^>^v^^vvv^^>^^<v><^><v>v^<<^^><^v<<^<^^<^^^^>>^v<>^v>v>>^v>v<<v^<><>^^vvv><^>><^^<><v<v>>><^<<v><<v><v^v^^v>><><^>>>^>v>v>><<>v^v><<v^^^<>>>vv^<>^^v^>>>>^<v><>><<<v>><<>>v^<^>v^^><v^^v<<<^<^>^v>^vv^>v>^v^v^<^><><^vvvvv><>v<^<vv^vv^><^v><v>v^>>vvv><<<^^v>^^<>^^>^v^v<^^^<v<<><>>^>v<>^<vvvvv^<v^<>v<^<^^<>^^<><v<>v^^><>v<v>>v><<v<^v>^>>^^vvv<<^>^v^<^<^vvv^^^<^<v>^v<>vv<<v^<v>>>^^>>v<v^<<^<v^^^v^^>><v<v<vv^v<<v<><^^v>^<<vv>>^^<<^^vvv>^>>^<<^vv^v>v<vv<^<^^<<<>^>v<v<>v<>^<vv<v>>v><vvvv<<>>>><>^>vv^^vv><<>><<^v^>>v<<><v^v>>^>^<v><><>>vv>v^><<^>^>><^^<v^^<vv<<><<v^<^^>^v<v>v^vv^^^<v>v^><>v^>v>v^v>><v>vv<>^>^<v<><v<>>v<>><<>^v^^^><><>>>^>vvv>^^<>v<v<v<^^^>>>>^>v>>v><<<^>>>^v<<^>>>>>><>>vv^v<<<>><^<^v^>vv<>v<>^^^^>><>><<>^v<', '<v>v<vvv^vv^<v^^^^^^^<>v<<^vv>v>^v>>^v^vv<>v>^>>>^v^v>><<<><>^<^<>>^^^v<v>^vv>^<><>><>v><v^><<^vv<>vv>v><<>^^v<>^>v<^^^^>>>^>>^^^>>v><>vvvv>>^<<v>v^^v^<vv>v<<<>v^<<vv>><>vv^^>>>^^><v^^^v^^>^^v^^^v^^><<^^><<v^<<v>^v<<^^vv<<^>v<><>v<^v>>><<<^v>>^v>v>^>^v^vv^><<<^^^vv^v^v>><^>><^>^^>v<^<v^^^<v>^v<<>v<>>><v>>v<<<v<vv>v>>v<<>>v<vv^vv>vvv>v^>v<<^^<vv>>v<^^><v<vv><^v<^<>v^<<>>^>^<<<<v<>v>v>><<^v<<>vvvv^v^>v>^<^>^>v^v>^<>>v^^<v>vv>v<^>^^<vv^<<<><<vv>^<<^^v^v<>><vv<<^<vv^<><^^>v^<><>v<>v><^>^><<v^<<^^>v>v^^v^<vv>vv^^v^v<<vv^vv><^<><^>v<v^v><>>vv<^>>^v<<<>><>><^><v>vv<<>vv^^vv<^>><v^^><vvv^^<>>>>v^v><<^vvv^v<v>vv^vv<^^<^>>>^<><<<v>^<vv^^v^v><vvv>vv>>>><^<v<>^vv^^<>>v>^^<<^<^^>>>v<<<>^<>^v^>v<^<<>^v<>>v<vv<v<<vv^>^^<^<>>vv<<vv^v^>><^^<v^v>^v^<v^<>><<^<>^>><>v^^><vv<<v^>v^<<v^>^v<<v>><vv^vv><^^<<v>>>v^v^>^<<v>v^<^^v^<v><>><>v<v<>^<v>v^<<^>v<<v>>><>>^><<^<<v>^^<v>^>^><>>>^vv<<^v>vv<>^^<^vvv<>>>>v>v^<<><>>>>>>^vv<>v<v>><^<vv><>v<^v>^v^v<vv^<<><v>>vv<>^<<<v^v<^vv>v>^<^v<>><v<v>>>v>v^>v^>v<<>v<^<><^><', 'v<v<^v^<<v><vvv<<^^^<^v>>>^^^^<<<^v>^>^<^^>v^><>v<vv><v<<>^^^>vv^v^>^v<^<<<>v<v^vv<>>><^<<^<v^^<^^>>>v<<<^<^v>vv^>^v^vv>^^^^^v><^>v>^<<<<^<v>^^<<^<^><>vvv<>^v>vv>^v>^>>^<^>>^^>^v^><><vvv<<<^^><^>^^<v<<v<v^<^<vv^vvv<^>^^^<v^v^v<v^>^><^^^v<v^^<<<<v^<<<<^<<^<>v>v<<v><<>vvv<v>>><<><>^v>^v><^v^v^<<^>^>v<v<^^^<><v^>^^>v<v>v<>^^^v>^>>v^><^><^vv<^^^<vv<v^vvv>v<>v><<v^<v<>v>>v^<<v>^v^>^v^v<v>^^v<^<>><^>^>vvvv><v^^^v>>^v^>^<>v>^>^>^^<^<>>>v>^>><>><><<<>>>>vvv^<<>vv<v<<v<v^<^>>v>><><>^vv>>><<>^>>v^>^vv<v^<^^>>v<v>>vv<^<><<><<<><><^<>v<>^^<<><vv^<^>>v><<<>v^>v<v<<^<>^v<^>>^>>vvv<<vvv^<<^>>^^v><vvv^^<>>^v<>^<^v^vv>v<<v>v^^<^vv>vvv^><vv<>v^^<vv^>v<<>>^^<>^vv^^<><<<<<>v^^<><v><^>vv<^><>^>>^<^<^^<<><<>^v>vv<>><<>^<<>>^vv^v>v<v^^^v>^v^>v><v>^v><>^^^<v^<>v>>>^<<<^<>v<^>^v<>^vvv><>>vv^<^^<<v^v^<^^vv^<>>^<vvv^^^<vv><v<v><^^<^<^<<><<v<vv<^^^^<>v>^<v<vvv^^^<<v^>^v>>>^>^^^<v<^^>>>^<<<<<<^><v<^v<^v<^<>vv<>>vvvvv>^^<vv^><>^v^>^v^>^>v^>^^v>v^vvvvvv^<v><^^<<>vv><>vv<>vv<vv<v>^>^>v^>>><^<^<^^^<<>v><v<^^><<<vv>^><', '><v<>><v>^^v^<>>^<v>><^<^<<v<v^><<><^>v^^^><<^vv^<<^^<<>v^<^v>v<v^<>v>^><^><<<^v>v<<v<<v>v>>>^><>v<><>v^>v^v>>^v<v^v^<<<<<vv>v<>v>^v<>^v<>>><><^><^>>^^v><^>^>>^^>v>>><^>vvv^<>v><v<<<>v<<^^<>v><<><^v<>>^<v>><vv<vv><>v<^vvv^<^v>^<^><^<v>v<^v^v^^vv^v><vv>^<^<^><<^<v>v<vv><v^^><^<<><<^^v^<v^><^^<><<^<>v>v>>^v<^^<v^v^vv<v>><^vv^v>>^<^^v<v<<>v<^v>^<^><^^>v<>^>v>>v>>>v^>^<vv<v>v^v^<^^<><<<<>^<^vvv>^<vv>v^^>^v^<<>^^>vv><<>>^v><>^v^<<<>v>>^<v>>>^<v>^v>>^<><v>vv^v>>^<><^^>v<v^^><>>^>^>^v><>><v<<>^v^<>><v<<^>><<>^^>>v<<><<^<^<^^<v<^<^v<><^v>v^^^v^<v^^^>v>>^v<^^^>^><vv^>>v<^>v>^^^^>^v^<<>v<^>^><^^^>^>v<^v>>^^>vv<v><<v><^^^v^>>^^>^<v>^>^v<>^<<^^<vv^>><>>>v<<^^>vv^^v><v^^>>v<v<^><vv<v<>^<^<v^v^<><^^<v<><><<vv<^<<><^^<^v^<>v>><vv^<><v<v^>>v^v<v<^v^<<<><v>>v>><vvv<<>^>^vv<><<v^v>^^><<><<v>vv<<<^vvv>v^<><^v<<^<v><<<>><<^>^vvv>vv^v>^^^>v^^>^v>>^^><^v><^v>>^><^>v<><<v><^v<<><<<^^^^>^>v>^^v^^v>>>v^^<<^^>v><^>^<>^^>vv>v^><^<^>^>>>^<v<><^vvv^<>vv<^^<v>><^>>v<v>vv^<v<v<><v><>v^><<^>v>>><<vv<<<v^<<>^vv>>^<^^<', '<<v^^v^^vv>v>^<^>v><<v><^>^v>^v<v>v^v<>>v<>v><>^<<>>^<<<>>^><<<v><>^<vv<>^v<v<<<<>^^<vvvv^>^vvv^><<<><vvv<^^v>v<<<^<<v<><<<vv^<<^<^<v>>>^<>^>>^v>><><v<<>^<^^v^^>>>v>v>^^><>^<<vv>>>v^^v^>>>>>^>v<<>vv^>^>^^^<>>>><v<><><<^vv<v>^v>>^^>^<>>^^^v^><^<><>v>v<^<^<v<>v<><v><v^<vv><^^<>v>v>^^<>>^^><>>v^^<<<v<<>v^v<^<>>v<v>v^<^>>>v>vv<><<<<^><^<^^^<^^^^^^<^^>v<>v<v<>^<><>v>v^<>>>>v^vv>^vvv>vv>>v^>>>>vvvv>^^v^<<^^>>v>>v>^<>><<><v>>^<^v^<v>^<^v>^v^<v<<<>><<v>^>v^^^v^vv>>v<><<>^>v<>v<<>^^><v<vv<<>v><v>^v<v><v^<^^>v>v<^^<^>v^^<^v>>><<>>^^vvvv^vv^<>v><<<><>><>>v<>>>vv>vv<>vv<^>>^<<<><<<v>^>>>v<^<>^vv^^v><>v><>v^>v<^^<<v><^^<v>^v><<><<<>^>v<v<><v>>><>v^<^><^^v^v^^>v<>^^^^v^^v>>>v^<<^<<^vvv<<^vv>vv><<>^^v^vvv<^>>v^>^>v>>><>vv>v>>^^<vv^>v<v>^<<<v^<>^v>^v<v>^<v>vvv<>^v^^^<>v>^<vv^v<^<vvv^<<^>^<>>^>><^<><>>^><><v>^v<^<<v>><^vv><v<>^<><^>^<<>^<vv^v><><>^><>v>^<^<<<^>^<v^><<^<<<vv<<v><^v>^vvvvv<^<vv<vv<>^v<v<v<v^<v<^v>><v><^<<^^^^>^><<^<v^v^v<^v^vv^v<>^^^^v^<^<<><<<>><vv^^>^v<^v>>><^>>v>>><<v^<v^<vv^^<>^>^^^v', '<v>>>^v<v^^^<^><^>v^vv^>>^v>vv^<>^^v^^vvv>><^<^><v>>vvv^>^^>vv<^v>^v><>^>>v<^vvv>v^v>^<^^>>v>>><<<<>v>^v><<^v^<v<>^^^<^v>^>v<>>v>vv^<^^>^>v^^v<<>>><^>v^^vv^>^v>vv<^><<^^vv<v>^v<>^v^<v<>^vv^v<^^vvv>^<>v><vvv><v^v^>>>^<<>v^vv>^v><v>^^><<>^><^>><>><>vvv^^v<v^^^v^^<v<<<>^^<v^>>>vv<v^><^>vvv^>><vv^vv^^>>^>>^<^>><<>^v>^<>vv>^v>><v^v^v>>><<vv^>>v<^^>vv>><>^^^>^<^<<v^vvv<>><^<<v<^v>v><v^^<<v^v>^v^<>^^<><>^v^<>v^v^vv>>>v<<^>>>>^<>^v<^<^^v><<>^v^v^^vv^<<^<>v>>^>>>>^^^>^^>vv>>^v^<v<>^><v>>>v^v>v>><^v^^^<^<^^<><>v<<<vv>>^v<v^>^^<>>><^v<^v>>^<^>><<^v<<v>v<><>v^><vvv>><>^<v>>>^^<<v^><>^>^><^v>v<v^v^<v>><v<v^^>^^>>><<<vv^^^>>^>>^^^^<<v^<<>v><>>v^^<<v><^^v><<>^>vv>>^<<^<^>>^>>v^>vv<>><^v<vvv^^v>^v>vv<^<>><v><<<<vv^>>^v<^<v^>^<><<^>>v<v^v<^^>v>vv>v<<>^^^v^^^>>><^<v^^<v><<^>><v><>^^<<^v^v<>^v<<v<>>><vvv>>^^v<^vv>v>v>>><><^^^v^<^^<^vv<^^><v^><<^^vvv^^>>^><>>^^<vv^^vvv>>^>^^>>><><v^<<>>>vv^vvvvv<<>^^<<vv<>^vvv^>v^^^^>v^vv<<<v^>^v^>^^<v>v<>^v<v><^>vv>^^^<><^v^>>^<>v^v<^>vv^^^>^<^<><<^>^>>v><<<vv>v>><<v^><v', '^^<^v^<<v><<^<^<><^><>vv>^^^<v<>>v<><>^^^>^v>>><>>^<>v^^v<v^<<v<vv^^v<v>^>v<v^>v>^^^<>^<v>><^><vv>>>>>>>^v><v<^^^><<>>v<^<v<^<>v<vv<^<^^^^<^v<>v<v<^>v>v><>><^><>^<v<^>^^^^<^<>v^>>^^^>v^^><>>^>^>><<^><^>>^<v^^v^<><v<>v>>><<<>v<^^>v><<v^^v^<>>v>><v<^v>><>^^>>^^^<>><<>v<^^>^^^^>>>><<v><>>><<^<>>v>>^v^<><>><><^^v^vv^>^<^^<<^<<^^<v^>^<^v>^<^>^<>^<<<v^<>vv><<>^vv><<<>v><<^vv<^>vvv>^^^^>>^<<>v>>v^>v<^v^<><>^><<v>v><>^v>^<><>v<>>>v>>>^^^^v<^>>><><vv><^^<<<>^>>>v>^>^>^<>v<<v<<v<^<<><^^<vvvv>>v><v^v^v^vv^v><v>^><><>vv^v^<^vvv<><v>>v<v<<^^vv^>v^v>vvv^v>><<v^>v><>^v<>v>^^<v^v<v>vv^^>>>><^v<<<<v^v<v^<>>>vvvv^^<v^<vv<<v<v^><>>>><<vv<><>>>vv^^>>^>^<v<><^>^<vvvv^^>>^v^<^>^^<v<v>><v>vvv>^v>v><>v^v>>vv>><^<<v<>^v<^vv^^v>v^>v><><vv><^<<<v^<>>><vv^<>v><<v>^^<v<<<<^v^<^v><>v^<v><><>>^>vv>>^>v<v<>>^><vv^>>^^<<<><^^v>v>>>v^v>^vv^><><>>vv>>>vv><^^<>^>^vv<^^>^^>>>><<^<v>v><><^v>v^vvv>>>>v^>v>>>>>v^>^^v^<<vv^<<>>v<>>v<^v>^<vv>v^>vv<>^>>>^v<<vvv>>^<^^v^v<^>><vv<>>v>><>v<v>v>^<^^^>^><>vv>^<>^v>^<<v><>><<>>>v<^v^^']\n",
      "1543141\n"
     ]
    }
   ],
   "source": [
    "dirs = {\n",
    "    \"^\": (-1, 0),\n",
    "    \"v\": (1, 0),\n",
    "    \"<\": (0, -1),\n",
    "    \">\": (0, 1),\n",
    "}\n",
    "\n",
    "def get_robot_pos(grid):\n",
    "    rows, cols = len(grid), len(grid[0])\n",
    "    for i in range(rows):\n",
    "        for j in range(cols):\n",
    "            if grid[i][j] == \"@\":\n",
    "                return (i, j)\n",
    "\n",
    "def moving(grid, pos, moves, part):\n",
    "    for move in moves:\n",
    "        \"\"\"\n",
    "        # zip looks nice but way too slow\n",
    "        ny, nx = (a + b for a, b in zip(pos, self.dirs[move]))\n",
    "        \"\"\"\n",
    "        ny = pos[0] + dirs[move][0]\n",
    "        nx = pos[1] + dirs[move][1]\n",
    "\n",
    "        if grid[ny][nx] == \".\":\n",
    "            pos = (ny, nx)\n",
    "        elif grid[ny][nx] == \"#\":\n",
    "            continue\n",
    "        else:\n",
    "            edges, adjs = get_adjs_and_edges(grid, pos, move, part)\n",
    "            blocked = 0\n",
    "            dy, dx = dirs[move]\n",
    "            for box in edges:\n",
    "                ny, nx = (box[0] + dy, box[1] + dx)\n",
    "                if grid[ny][nx] == \"#\":\n",
    "                    blocked += 1\n",
    "            if blocked == 0:\n",
    "                grid = update_grid(grid, adjs, move)\n",
    "                pos = (pos[0] + dy, pos[1] + dx)\n",
    "    return grid\n",
    "\n",
    "def get_adjs_and_edges(grid, pos, move, part=1):\n",
    "    y, x = pos\n",
    "    dy, dx = dirs[move]\n",
    "\n",
    "    adjs = set()\n",
    "    if part == 1 or move in \"<>\":\n",
    "        while True:\n",
    "            ny, nx = y + dy, x + dx\n",
    "            if grid[ny][nx] in \".#\":\n",
    "                return [(ny - dy, nx - dx)], adjs\n",
    "            y = ny\n",
    "            x = nx\n",
    "            adjs.add((y, x))\n",
    "    else:\n",
    "        edges = []\n",
    "        queue = [(y, x)]\n",
    "        while queue:\n",
    "            y, x = queue.pop(0)\n",
    "            if (y, x) in adjs:\n",
    "                continue\n",
    "            adjs.add((y, x))\n",
    "            ny, nx = y + dy, x + dx\n",
    "            if grid[ny][nx] in \".#\":\n",
    "                edges.append((y, x))\n",
    "            elif grid[ny][nx] == \"[\":\n",
    "                queue.append((ny, nx))\n",
    "                queue.append((ny, nx + 1))\n",
    "            elif grid[ny][nx] == \"]\":\n",
    "                queue.append((ny, nx))\n",
    "                queue.append((ny, nx - 1))\n",
    "\n",
    "        return edges, adjs - {(pos[0], pos[1])}\n",
    "\n",
    "def update_grid(grid, adjs, move):\n",
    "    sorted_coords = []\n",
    "\n",
    "    # sort coords from the edge to the robot's position\n",
    "    match move:\n",
    "        case \"^\":\n",
    "            sorted_coords = sorted(adjs, key=lambda x: x[0])\n",
    "        case \"v\":\n",
    "            sorted_coords = sorted(adjs, key=lambda x: x[0], reverse=True)\n",
    "        case \"<\":\n",
    "            sorted_coords = sorted(adjs, key=lambda x: x[1])\n",
    "        case \">\":\n",
    "            sorted_coords = sorted(adjs, key=lambda x: x[1], reverse=True)\n",
    "\n",
    "    dy, dx = dirs[move]\n",
    "    for coord in sorted_coords:\n",
    "        y, x = coord\n",
    "        ny, nx = y + dy, x + dx\n",
    "        grid[ny][nx] = grid[y][x]\n",
    "        grid[y][x] = \".\"\n",
    "\n",
    "    return grid\n",
    "\n",
    "def get_coords_sum(grid, part=1):\n",
    "    box = \"[\" if part == 2 else \"O\"\n",
    "    rows, cols = len(grid), len(grid[0])\n",
    "    # _sum = 0\n",
    "    # for r in range(rows):\n",
    "    #     for c in range(cols):\n",
    "    #         if grid[r][c] == target:\n",
    "    #             _sum += 100 * r + c\n",
    "    _sum = sum(100 * y + x for y in range(rows) for x in range(cols) if grid[y][x] == box)\n",
    "    return _sum\n",
    "\n",
    "def resize_grid(grid):\n",
    "    _mappings = {\n",
    "        \"#\": \"##\",\n",
    "        \"O\": \"[]\",\n",
    "        \".\": \"..\",\n",
    "        \"@\": \"@.\",\n",
    "    }\n",
    "    # new_grid = []\n",
    "    # for line in grid:\n",
    "    #     new_line = list(\"\".join(_mappings[c] for c in line))\n",
    "    #     new_grid.append(new_line)\n",
    "    new_grid = [list(\"\".join(_mappings[c] for c in line)) for line in grid]\n",
    "    return new_grid\n",
    "\n",
    "def part2(data):\n",
    "    part = 2\n",
    "    grid, moves = \"\\n\".join(data).split(\"\\n\\n\")\n",
    "    grid = [list(row) for row in grid.split(\"\\n\")]\n",
    "    moves = list(\"\".join(moves.split(\"\\n\")))\n",
    "\n",
    "    grid = resize_grid(grid)\n",
    "\n",
    "    pos = get_robot_pos(grid)\n",
    "    grid[pos[0]][pos[1]] = \".\"\n",
    "\n",
    "    grid = moving(grid, pos, moves, part)\n",
    "    _sum = get_coords_sum(grid, part)\n",
    "    return _sum\n",
    "\n",
    "# Call part2 function with matrix\n",
    "result_2 = part2(matrix)\n",
    "print(result_2)"
   ]
  },
  {
   "cell_type": "code",
   "execution_count": null,
   "metadata": {},
   "outputs": [],
   "source": []
  }
 ],
 "metadata": {
  "kernelspec": {
   "display_name": "Python 3",
   "language": "python",
   "name": "python3"
  },
  "language_info": {
   "codemirror_mode": {
    "name": "ipython",
    "version": 3
   },
   "file_extension": ".py",
   "mimetype": "text/x-python",
   "name": "python",
   "nbconvert_exporter": "python",
   "pygments_lexer": "ipython3",
   "version": "3.10.0"
  }
 },
 "nbformat": 4,
 "nbformat_minor": 2
}
