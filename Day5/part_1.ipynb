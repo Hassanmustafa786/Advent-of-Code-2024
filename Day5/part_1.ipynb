{
 "cells": [
  {
   "cell_type": "code",
   "execution_count": 179,
   "metadata": {},
   "outputs": [
    {
     "name": "stdout",
     "output_type": "stream",
     "text": [
      "['47|53\\n', '97|13\\n', '97|61\\n', '97|47\\n', '75|29\\n', '61|13\\n', '75|53\\n', '29|13\\n', '97|29\\n', '53|29\\n', '61|53\\n', '97|53\\n', '61|29\\n', '47|13\\n', '75|47\\n', '97|75\\n', '47|61\\n', '75|61\\n', '47|29\\n', '75|13\\n', '53|13\\n', '\\n', '75,47,61,53,29\\n', '97,61,53,29,13\\n', '75,29,13\\n', '75,97,47,61,53\\n', '61,13,29\\n', '97,13,75,29,47']\n"
     ]
    }
   ],
   "source": [
    "# Day 5 (Part 1)\n",
    "# Define file path\n",
    "file_path = \"Part1.txt\"\n",
    "\n",
    "matrix = []\n",
    "# Read the file\n",
    "with open(file_path, 'r') as file:\n",
    "    lines = file.readlines()\n",
    "    # for line in lines:\n",
    "    #     matrix.append(list(line.strip()))\n",
    "\n",
    "print(lines)"
   ]
  },
  {
   "cell_type": "code",
   "execution_count": 180,
   "metadata": {},
   "outputs": [],
   "source": [
    "sect_1 = []\n",
    "sect_2 = []\n",
    "if_cond = True\n",
    "\n",
    "for i in lines:\n",
    "    if if_cond:\n",
    "        if i == \"\\n\":\n",
    "            if_cond = False\n",
    "        else:\n",
    "            sect_1.append(i.strip())\n",
    "    else:\n",
    "        sect_2.append(i.strip())"
   ]
  },
  {
   "cell_type": "code",
   "execution_count": 182,
   "metadata": {},
   "outputs": [
    {
     "data": {
      "text/plain": [
       "[[75, 47, 61, 53, 29],\n",
       " [97, 61, 53, 29, 13],\n",
       " [75, 29, 13],\n",
       " [75, 97, 47, 61, 53],\n",
       " [61, 13, 29],\n",
       " [97, 13, 75, 29, 47]]"
      ]
     },
     "execution_count": 182,
     "metadata": {},
     "output_type": "execute_result"
    }
   ],
   "source": [
    "sect_2_new = []\n",
    "for item in sect_2:\n",
    "    numbers = list(map(int, item.split(',')))\n",
    "    sect_2_new.append(numbers)\n",
    "\n",
    "sect_2_new"
   ]
  },
  {
   "cell_type": "code",
   "execution_count": 185,
   "metadata": {},
   "outputs": [],
   "source": [
    "from collections import defaultdict\n",
    "\n",
    "class Solution:\n",
    "    def extract_data(self, data):\n",
    "        _sep = data.index(\"\")\n",
    "\n",
    "        rules = defaultdict(set)\n",
    "        for i in data[:_sep]:\n",
    "            a, b = map(int, i.split(\"|\"))\n",
    "            rules[a].add(b)\n",
    "\n",
    "        updates = [list(map(int, i.split(\",\"))) for i in data[_sep + 1 :]]\n",
    "\n",
    "        return rules, updates\n",
    "\n",
    "    def is_valid(self, rules, update):\n",
    "        for i in range(len(update)):\n",
    "            for j in range(i + 1, len(update)):\n",
    "                if update[j] not in rules[update[i]]:\n",
    "                    return False\n",
    "        return True\n",
    "\n",
    "    def fix_update(self, rules, update):\n",
    "        filtered_rules = defaultdict(set)\n",
    "        for i in update:\n",
    "            filtered_rules[i] = rules[i] & set(update)\n",
    "\n",
    "        ordered_keys = sorted(filtered_rules, key=lambda k: len(filtered_rules[k]), reverse=True)\n",
    "\n",
    "        return ordered_keys\n",
    "\n",
    "    def part1(self, data):\n",
    "        rules, updates = self.extract_data(data)\n",
    "        add_up = 0\n",
    "\n",
    "        for update in updates:\n",
    "            if self.is_valid(rules, update):\n",
    "                add_up += update[len(update) // 2]\n",
    "\n",
    "        return add_up\n",
    "\n",
    "    def part2(self, data):\n",
    "        rules, updates = self.extract_data(data)\n",
    "        add_up = 0\n",
    "\n",
    "        for update in updates:\n",
    "            if not self.is_valid(rules, update):\n",
    "                fixed_update = self.fix_update(rules, update)\n",
    "                add_up += fixed_update[len(update) // 2]\n",
    "\n",
    "        return add_up\n"
   ]
  },
  {
   "cell_type": "code",
   "execution_count": 187,
   "metadata": {},
   "outputs": [
    {
     "name": "stdout",
     "output_type": "stream",
     "text": [
      "Part 1 Result: 6384\n",
      "Part 2 Result: 5353\n"
     ]
    }
   ],
   "source": [
    "# Read the content of the txt file into a list of strings\n",
    "def read_file(file_path):\n",
    "    with open(file_path, 'r') as file:\n",
    "        data = file.read().splitlines()\n",
    "    return data\n",
    "\n",
    "# Instantiate the Solution class\n",
    "solution = Solution()\n",
    "\n",
    "# Read the data from the file\n",
    "file_path = 'Part1.txt'\n",
    "data = read_file(file_path)\n",
    "\n",
    "# Call the part1 or part2 methods to get the results\n",
    "result_part1 = solution.part1(data)\n",
    "result_part2 = solution.part2(data)\n",
    "\n",
    "print(\"Part 1 Result:\", result_part1)\n",
    "print(\"Part 2 Result:\", result_part2)"
   ]
  },
  {
   "cell_type": "code",
   "execution_count": null,
   "metadata": {},
   "outputs": [],
   "source": []
  },
  {
   "cell_type": "code",
   "execution_count": 173,
   "metadata": {},
   "outputs": [
    {
     "name": "stdout",
     "output_type": "stream",
     "text": [
      "['7', '5', ',', '4', '7', ',', '6', '1', ',', '5', '3', ',', '2', '9', '9', '7', ',', '6', '1', ',', '5', '3', ',', '2', '9', ',', '1', '3', '7', '5', ',', '2', '9', ',', '1', '3', '7', '5', ',', '9', '7', ',', '4', '7', ',', '6', '1', ',', '5', '3', '6', '1', ',', '1', '3', ',', '2', '9', '9', '7', ',', '1', '3', ',', '7', '5', ',', '2', '9', ',', '4', '7']\n"
     ]
    }
   ],
   "source": [
    "all_char = []\n",
    "for i in sect_2:\n",
    "    for j in i:\n",
    "        all_char.append(j)\n",
    "\n",
    "\n",
    "print(all_char)"
   ]
  },
  {
   "cell_type": "code",
   "execution_count": 161,
   "metadata": {},
   "outputs": [
    {
     "name": "stdout",
     "output_type": "stream",
     "text": [
      "['75', '', '47', '', '61', '', '53', '', '29', '97', '', '61', '', '53', '', '29', '', '13', '75', '', '29', '', '13', '75', '', '97', '', '47', '', '61', '', '53', '61', '', '13', '', '29', '97', '', '13', '', '75', '', '29', '', '47']\n"
     ]
    }
   ],
   "source": [
    "l = []\n",
    "temp = \"\"\n",
    "counter = 0\n",
    "\n",
    "for i in all_char:\n",
    "    if i == ',':\n",
    "        l.append(temp)   # Append the current number before the comma\n",
    "        temp = \"\"        # Reset temp to start the next number\n",
    "        counter = 0\n",
    "    else:\n",
    "        if counter < 2:\n",
    "            temp += i\n",
    "            counter += 1\n",
    "            if counter == 2:\n",
    "                l.append(temp)   # Append the current number before the comma\n",
    "                temp = \"\"        # Reset temp to start the next number\n",
    "                counter = 0\n",
    "        else:\n",
    "            temp += i\n",
    "            counter = 0\n",
    "\n",
    "if temp:  # Append the last number if exists\n",
    "    l.append(temp)\n",
    "\n",
    "print(l)"
   ]
  },
  {
   "cell_type": "code",
   "execution_count": 162,
   "metadata": {},
   "outputs": [
    {
     "name": "stdout",
     "output_type": "stream",
     "text": [
      "['75', '47', '61', '53', '29', ['97'], '61', '53', '29', '13', ['75'], '29', '13', ['75'], '97', '47', '61', '53', ['61'], '13', '29', ['97'], '13', '75', '29', '47']\n",
      "[]\n"
     ]
    }
   ],
   "source": [
    "p = []\n",
    "q = []\n",
    "checkpoint = 0\n",
    "for i in l:\n",
    "    if i == '':\n",
    "        checkpoint = 0 \n",
    "    else:\n",
    "        if checkpoint < 1:\n",
    "            p.append(i)\n",
    "            checkpoint += 1\n",
    "        else:\n",
    "            p.append([i])\n",
    "            checkpoint = 0\n",
    "\n",
    "print(p)\n",
    "print(q)"
   ]
  },
  {
   "cell_type": "code",
   "execution_count": 96,
   "metadata": {},
   "outputs": [
    {
     "name": "stdout",
     "output_type": "stream",
     "text": [
      "['75', '47', '61', '53', '29', '97', '61', '53', '29', '13', '75', '29', '13', '75', '97', '47', '61', '53', '61', '13', '29', '97', '13', '75', '29', '47']\n"
     ]
    }
   ],
   "source": [
    "l = list(filter(None,l))\n",
    "print(l)"
   ]
  },
  {
   "cell_type": "code",
   "execution_count": 166,
   "metadata": {},
   "outputs": [
    {
     "name": "stdout",
     "output_type": "stream",
     "text": [
      "5\n",
      "5\n",
      "3\n",
      "5\n",
      "3\n",
      "5\n"
     ]
    },
    {
     "data": {
      "text/plain": [
       "[47, 61, 53, 75, 97, 47, 61, 53, 13, 29, 13, 75, 47]"
      ]
     },
     "execution_count": 166,
     "metadata": {},
     "output_type": "execute_result"
    }
   ],
   "source": [
    "# Input list\n",
    "arr = [\n",
    "    '75,47,61,53,29',\n",
    "    '97,61,53,29,13',\n",
    "    '75,29,13',\n",
    "    '75,97,47,61,53',\n",
    "    '61,13,29',\n",
    "    '97,13,75,29,47'\n",
    "]\n",
    "\n",
    "# Function to find out-of-order digits\n",
    "def find_out_of_order(arr):\n",
    "    out_of_order = []\n",
    "    \n",
    "    # Loop through each string in the array\n",
    "    for item in arr:\n",
    "        # Convert the string to a list of integers\n",
    "        numbers = list(map(int, item.split(',')))\n",
    "        print(len(numbers))\n",
    "        \n",
    "        # Get the sorted list in descending order\n",
    "        sorted_numbers = sorted(numbers, reverse=True)\n",
    "        \n",
    "        # Find numbers that are out of order (those not matching the sorted list)\n",
    "        out_of_order.extend([num for num in numbers if num != sorted_numbers[numbers.index(num)]])\n",
    "    \n",
    "    return out_of_order\n",
    "\n",
    "# Find out-of-order digits\n",
    "out_of_order_digits = find_out_of_order(arr)\n",
    "\n",
    "# Display the result\n",
    "out_of_order_digits\n"
   ]
  },
  {
   "cell_type": "code",
   "execution_count": null,
   "metadata": {},
   "outputs": [
    {
     "data": {
      "text/plain": [
       "[47, 61, 53, 75, 97, 47, 61, 53, 13, 29, 13, 75, 47]"
      ]
     },
     "execution_count": 164,
     "metadata": {},
     "output_type": "execute_result"
    }
   ],
   "source": []
  },
  {
   "cell_type": "code",
   "execution_count": null,
   "metadata": {},
   "outputs": [],
   "source": []
  }
 ],
 "metadata": {
  "kernelspec": {
   "display_name": "Python 3",
   "language": "python",
   "name": "python3"
  },
  "language_info": {
   "codemirror_mode": {
    "name": "ipython",
    "version": 3
   },
   "file_extension": ".py",
   "mimetype": "text/x-python",
   "name": "python",
   "nbconvert_exporter": "python",
   "pygments_lexer": "ipython3",
   "version": "3.10.0"
  }
 },
 "nbformat": 4,
 "nbformat_minor": 2
}
