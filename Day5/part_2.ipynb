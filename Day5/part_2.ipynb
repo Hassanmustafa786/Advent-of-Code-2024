{
 "cells": [
  {
   "cell_type": "code",
   "execution_count": 1,
   "metadata": {},
   "outputs": [],
   "source": [
    "from collections import defaultdict\n",
    "\n",
    "class Solution:\n",
    "    def extract_data(self, data):\n",
    "        _sep = data.index(\"\")\n",
    "\n",
    "        rules = defaultdict(set)\n",
    "        for i in data[:_sep]:\n",
    "            a, b = map(int, i.split(\"|\"))\n",
    "            rules[a].add(b)\n",
    "\n",
    "        updates = [list(map(int, i.split(\",\"))) for i in data[_sep + 1 :]]\n",
    "\n",
    "        return rules, updates\n",
    "\n",
    "    def is_valid(self, rules, update):\n",
    "        for i in range(len(update)):\n",
    "            for j in range(i + 1, len(update)):\n",
    "                if update[j] not in rules[update[i]]:\n",
    "                    return False\n",
    "        return True\n",
    "\n",
    "    def fix_update(self, rules, update):\n",
    "        filtered_rules = defaultdict(set)\n",
    "        for i in update:\n",
    "            filtered_rules[i] = rules[i] & set(update)\n",
    "\n",
    "        ordered_keys = sorted(filtered_rules, key=lambda k: len(filtered_rules[k]), reverse=True)\n",
    "\n",
    "        return ordered_keys\n",
    "\n",
    "    def part1(self, data):\n",
    "        rules, updates = self.extract_data(data)\n",
    "        add_up = 0\n",
    "\n",
    "        for update in updates:\n",
    "            if self.is_valid(rules, update):\n",
    "                add_up += update[len(update) // 2]\n",
    "\n",
    "        return add_up\n",
    "\n",
    "    def part2(self, data):\n",
    "        rules, updates = self.extract_data(data)\n",
    "        add_up = 0\n",
    "\n",
    "        for update in updates:\n",
    "            if not self.is_valid(rules, update):\n",
    "                fixed_update = self.fix_update(rules, update)\n",
    "                add_up += fixed_update[len(update) // 2]\n",
    "\n",
    "        return add_up\n"
   ]
  },
  {
   "cell_type": "code",
   "execution_count": 2,
   "metadata": {},
   "outputs": [
    {
     "name": "stdout",
     "output_type": "stream",
     "text": [
      "Part 1 Result: 6384\n",
      "Part 2 Result: 5353\n"
     ]
    }
   ],
   "source": [
    "# Read the content of the txt file into a list of strings\n",
    "def read_file(file_path):\n",
    "    with open(file_path, 'r') as file:\n",
    "        data = file.read().splitlines()\n",
    "    return data\n",
    "\n",
    "# Instantiate the Solution class\n",
    "solution = Solution()\n",
    "\n",
    "# Read the data from the file\n",
    "file_path = 'Part2.txt'\n",
    "data = read_file(file_path)\n",
    "\n",
    "# Call the part1 or part2 methods to get the results\n",
    "result_part1 = solution.part1(data)\n",
    "result_part2 = solution.part2(data)\n",
    "\n",
    "print(\"Part 1 Result:\", result_part1)\n",
    "print(\"Part 2 Result:\", result_part2)"
   ]
  },
  {
   "cell_type": "code",
   "execution_count": null,
   "metadata": {},
   "outputs": [],
   "source": []
  }
 ],
 "metadata": {
  "kernelspec": {
   "display_name": "Python 3",
   "language": "python",
   "name": "python3"
  },
  "language_info": {
   "codemirror_mode": {
    "name": "ipython",
    "version": 3
   },
   "file_extension": ".py",
   "mimetype": "text/x-python",
   "name": "python",
   "nbconvert_exporter": "python",
   "pygments_lexer": "ipython3",
   "version": "3.10.0"
  }
 },
 "nbformat": 4,
 "nbformat_minor": 2
}
