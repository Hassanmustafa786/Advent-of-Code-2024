{
 "cells": [
  {
   "cell_type": "code",
   "execution_count": 6,
   "metadata": {},
   "outputs": [
    {
     "name": "stdout",
     "output_type": "stream",
     "text": [
      "['Register A: 41644071\\n', 'Register B: 0\\n', 'Register C: 0\\n', '\\n', 'Program: 2,4,1,2,7,5,1,7,4,4,0,3,5,5,3,0']\n"
     ]
    }
   ],
   "source": [
    "# Day 17 (Part 1)\n",
    "# Define file path\n",
    "file_path = \"Day17.txt\"\n",
    "\n",
    "with open(file_path, 'r') as file:\n",
    "    content = file.readlines()\n",
    "print(content)"
   ]
  },
  {
   "cell_type": "code",
   "execution_count": 7,
   "metadata": {},
   "outputs": [
    {
     "name": "stdout",
     "output_type": "stream",
     "text": [
      "3,1,5,3,7,4,2,7,5\n"
     ]
    }
   ],
   "source": [
    "def run_program(registers, program):\n",
    "    def combo_operand(value):\n",
    "        match value:\n",
    "            case 0 | 1 | 2 | 3:\n",
    "                return value\n",
    "            case 4:\n",
    "                return A\n",
    "            case 5:\n",
    "                return B\n",
    "            case 6:\n",
    "                return C\n",
    "\n",
    "    A, B, C = registers\n",
    "    pointer = 0\n",
    "    outputs = []\n",
    "\n",
    "    while pointer < len(program):\n",
    "        opcode = program[pointer]\n",
    "        operand = program[pointer + 1]\n",
    "\n",
    "        if opcode == 0:  # adv\n",
    "            A //= 2 ** combo_operand(operand)\n",
    "        elif opcode == 1:  # bxl\n",
    "            B ^= operand\n",
    "        elif opcode == 2:  # bst\n",
    "            B = combo_operand(operand) % 8\n",
    "        elif opcode == 3:  # jnz\n",
    "            if A != 0:\n",
    "                pointer = operand\n",
    "                continue  # skip the pointer increment\n",
    "        elif opcode == 4:  # bxc\n",
    "            B ^= C\n",
    "        elif opcode == 5:  # out\n",
    "            outputs.append(combo_operand(operand) % 8)\n",
    "        elif opcode == 6:  # bdv\n",
    "            B = A // (2 ** combo_operand(operand))\n",
    "        elif opcode == 7:  # cdv\n",
    "            C = A // (2 ** combo_operand(operand))\n",
    "\n",
    "        pointer += 2\n",
    "\n",
    "    return outputs\n",
    "\n",
    "def part1(data):\n",
    "    registers = [\n",
    "        int(data[0].split(\": \")[1]),\n",
    "        int(data[1].split(\": \")[1]),\n",
    "        int(data[2].split(\": \")[1]),\n",
    "    ]\n",
    "    program = list(map(int, data[4].split(\": \")[1].split(\",\")))\n",
    "\n",
    "    result = run_program(registers, program)\n",
    "    return \",\".join(map(str, result))\n",
    "\n",
    "result = part1(content)\n",
    "print(result)\n"
   ]
  },
  {
   "cell_type": "markdown",
   "metadata": {},
   "source": [
    "# Part 2"
   ]
  },
  {
   "cell_type": "code",
   "execution_count": null,
   "metadata": {},
   "outputs": [
    {
     "name": "stdout",
     "output_type": "stream",
     "text": [
      "[['#', '#', '#', '#', '#', '#', '#'], ['#', '.', '.', '.', '#', '.', '#'], ['#', '.', '.', '.', '.', '.', '#'], ['#', '.', '.', 'O', 'O', '@', '#'], ['#', '.', '.', 'O', '.', '.', '#'], ['#', '.', '.', '.', '.', '.', '#'], ['#', '#', '#', '#', '#', '#', '#'], [], ['<', 'v', 'v', '<', '<', '^', '^', '<', '<', '^', '^']]\n"
     ]
    }
   ],
   "source": [
    "# Day 17 (Part 2)\n",
    "# Define file path\n",
    "file_path = \"Day17.txt\"\n",
    "\n",
    "with open(file_path, 'r') as file:\n",
    "    content = file.readlines()\n",
    "print(content)"
   ]
  },
  {
   "cell_type": "code",
   "execution_count": 9,
   "metadata": {},
   "outputs": [
    {
     "name": "stdout",
     "output_type": "stream",
     "text": [
      "190593310997519\n"
     ]
    }
   ],
   "source": [
    "def part2(data):\n",
    "    program = list(map(int, data[4].split(\": \")[1].split(\",\")))\n",
    "\n",
    "    \"\"\"\n",
    "    after observing the output of run_program, I was found that a certain\n",
    "    number of As form a fixed sequence of tail values\n",
    "    so we could calculate the minimum value of the target answer and start looping\n",
    "    \"\"\"\n",
    "    A = sum(7 * 8**i for i in range(len(program) - 1)) + 1\n",
    "\n",
    "    while True:\n",
    "        result = run_program([A, 0, 0], program)\n",
    "\n",
    "        if len(result) > len(program):\n",
    "            raise ValueError(\"The output is too long\")\n",
    "\n",
    "        if result == program:\n",
    "            return A\n",
    "\n",
    "        \"\"\"\n",
    "        after the tail numbers match, using the same approach to calculate how much\n",
    "        needs to be added to adjust the next sequence interval to align with the\n",
    "        previous number\n",
    "        \"\"\"\n",
    "        add = 0\n",
    "        for i in range(len(result) - 1, -1, -1):\n",
    "            if result[i] != program[i]:\n",
    "                add = 8**i\n",
    "                A += add\n",
    "                break\n",
    "\n",
    "result_2 = part2(content)\n",
    "print(result_2)"
   ]
  },
  {
   "cell_type": "code",
   "execution_count": null,
   "metadata": {},
   "outputs": [],
   "source": []
  }
 ],
 "metadata": {
  "kernelspec": {
   "display_name": "Python 3",
   "language": "python",
   "name": "python3"
  },
  "language_info": {
   "codemirror_mode": {
    "name": "ipython",
    "version": 3
   },
   "file_extension": ".py",
   "mimetype": "text/x-python",
   "name": "python",
   "nbconvert_exporter": "python",
   "pygments_lexer": "ipython3",
   "version": "3.10.0"
  }
 },
 "nbformat": 4,
 "nbformat_minor": 2
}
