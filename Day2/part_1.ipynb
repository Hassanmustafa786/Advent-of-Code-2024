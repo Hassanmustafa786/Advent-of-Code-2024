{
 "cells": [
  {
   "cell_type": "code",
   "execution_count": null,
   "metadata": {},
   "outputs": [
    {
     "name": "stdout",
     "output_type": "stream",
     "text": [
      "Sublist [7, 6, 4, 2, 1]\n",
      "Sublist [1, 2, 7, 8, 9]\n",
      "Sublist [9, 7, 6, 2, 1]\n",
      "Sublist [1, 3, 2, 4, 5]\n",
      "Sublist [8, 6, 4, 4, 1]\n",
      "Sublist [1, 3, 6, 7, 9]\n",
      "Report 1: [7, 6, 4, 2, 1]\n",
      "Report 2: [1, 2, 7, 8, 9]\n",
      "Report 3: [9, 7, 6, 2, 1]\n",
      "Report 4: [1, 3, 2, 4, 5]\n",
      "Report 5: [8, 6, 4, 4, 1]\n",
      "Report 6: [1, 3, 6, 7, 9]\n"
     ]
    }
   ],
   "source": [
    "# Day 2\n",
    "# Define file path\n",
    "file_path = \"Practice1.txt\"\n",
    "\n",
    "# Initialize two empty lists\n",
    "report_1 = []\n",
    "report_2 = []\n",
    "report_3 = []\n",
    "report_4 = []\n",
    "report_5 = []\n",
    "report_6 = []\n",
    "\n",
    "# Read the file\n",
    "with open(file_path, 'r') as file:\n",
    "    # Initialize an empty list to store lists of numbers\n",
    "    all_numbers = []\n",
    "    \n",
    "    # Iterate through each line in the file\n",
    "    for line in file:\n",
    "        # Split the line into individual strings, convert them to integers, and create a sublist\n",
    "        sublist = list(map(int, line.split()))\n",
    "        print(\"Sublist\", sublist)\n",
    "        \n",
    "        # Append the sublist to the main list\n",
    "        all_numbers.append(sublist)\n",
    "\n",
    "    report_1.extend(all_numbers[0])\n",
    "    report_2.extend(all_numbers[1])\n",
    "    report_3.extend(all_numbers[2])\n",
    "    report_4.extend(all_numbers[3])\n",
    "    report_5.extend(all_numbers[4])\n",
    "    report_6.extend(all_numbers[5])\n",
    "\n",
    "# Print the results\n",
    "print(\"Report 1:\", report_1)\n",
    "print(\"Report 2:\", report_2)\n",
    "print(\"Report 3:\", report_3)\n",
    "print(\"Report 4:\", report_4)\n",
    "print(\"Report 5:\", report_5)\n",
    "print(\"Report 6:\", report_6)"
   ]
  },
  {
   "cell_type": "code",
   "execution_count": 30,
   "metadata": {},
   "outputs": [
    {
     "name": "stdout",
     "output_type": "stream",
     "text": [
      "Reports Length: 1000\n"
     ]
    }
   ],
   "source": [
    "# Day 2\n",
    "# Define file path\n",
    "file_path = \"Part1.txt\"\n",
    "\n",
    "# Read the file\n",
    "with open(file_path, 'r') as file:\n",
    "    # Initialize an empty list to store lists of numbers\n",
    "    all_reports = []\n",
    "    \n",
    "    # Iterate through each line in the file\n",
    "    for line in file:\n",
    "        # Split the line into individual strings, convert them to integers, and create a sublist\n",
    "        sublist = list(map(int, line.split()))\n",
    "        \n",
    "        # Append the sublist to the main list\n",
    "        all_reports.append(sublist)\n",
    "\n",
    "print(\"Reports Length:\", len(all_reports))"
   ]
  },
  {
   "cell_type": "code",
   "execution_count": 32,
   "metadata": {},
   "outputs": [
    {
     "name": "stdout",
     "output_type": "stream",
     "text": [
      "Safe lists: 660\n",
      "Unsafe lists: 340\n"
     ]
    }
   ],
   "source": [
    "def check_order(lst):\n",
    "    # Check if there's a gap greater than 3 between any two consecutive elements\n",
    "    for i in range(len(lst) - 1):\n",
    "        if abs(lst[i] - lst[i + 1]) > 3:\n",
    "            return 'unsafe'\n",
    "    \n",
    "    # Check if the list is in strictly increasing order\n",
    "    if all(lst[i] < lst[i + 1] for i in range(len(lst) - 1)):\n",
    "        return 'increasing'\n",
    "    \n",
    "    # Check if the list is in strictly decreasing order\n",
    "    elif all(lst[i] > lst[i + 1] for i in range(len(lst) - 1)):\n",
    "        return 'decreasing'\n",
    "    \n",
    "    # If neither increasing nor decreasing, return unsafe\n",
    "    else:\n",
    "        return 'unsafe'\n",
    "\n",
    "def classify_lists(lists):\n",
    "    safe_list = []\n",
    "    unsafe_list = []\n",
    "    \n",
    "    for lst in lists:\n",
    "        order = check_order(lst)\n",
    "        if order == 'increasing' or order == 'decreasing':\n",
    "            safe_list.append(lst)\n",
    "        else:\n",
    "            unsafe_list.append(lst)\n",
    "    \n",
    "    return safe_list, unsafe_list\n",
    "\n",
    "\n",
    "safe_list, unsafe_list = classify_lists(all_reports)\n",
    "\n",
    "print(\"Safe lists:\", len(safe_list))\n",
    "print(\"Unsafe lists:\", len(unsafe_list))"
   ]
  },
  {
   "cell_type": "code",
   "execution_count": null,
   "metadata": {},
   "outputs": [],
   "source": []
  }
 ],
 "metadata": {
  "kernelspec": {
   "display_name": "Python 3",
   "language": "python",
   "name": "python3"
  },
  "language_info": {
   "codemirror_mode": {
    "name": "ipython",
    "version": 3
   },
   "file_extension": ".py",
   "mimetype": "text/x-python",
   "name": "python",
   "nbconvert_exporter": "python",
   "pygments_lexer": "ipython3",
   "version": "3.10.0"
  }
 },
 "nbformat": 4,
 "nbformat_minor": 2
}
