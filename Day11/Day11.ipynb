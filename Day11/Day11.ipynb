{
 "cells": [
  {
   "cell_type": "code",
   "execution_count": 36,
   "metadata": {},
   "outputs": [
    {
     "name": "stdout",
     "output_type": "stream",
     "text": [
      "['4610211 4 0 59 3907 201586 929 33750']\n"
     ]
    }
   ],
   "source": [
    "# Day 11 (Part 1)\n",
    "# Define file path\n",
    "file_path = \"Day11_Part1.txt\"\n",
    "\n",
    "with open(file_path, 'r') as file:\n",
    "    content = file.readlines()\n",
    "print(content)"
   ]
  },
  {
   "cell_type": "code",
   "execution_count": 37,
   "metadata": {},
   "outputs": [
    {
     "name": "stdout",
     "output_type": "stream",
     "text": [
      "Part 1: 197357\n"
     ]
    }
   ],
   "source": [
    "from math import log, floor\n",
    "\n",
    "tracking = {}\n",
    "\n",
    "def blink(stone, times):\n",
    "    if times == 0:\n",
    "        return 1\n",
    "\n",
    "    if (stone, times) in tracking:\n",
    "        return tracking[(stone, times)]\n",
    "\n",
    "    if stone == 0:\n",
    "        size = blink(1, times - 1)\n",
    "        \"\"\"\n",
    "    elif (digits := len(stone_str := str(stone))) % 2 < 1:\n",
    "        left = int(stone_str[: digits // 2])\n",
    "        right = int(stone_str[digits // 2 :])\n",
    "        size = self.blink(left, times - 1) + self.blink(right, times - 1)\n",
    "        \"\"\"\n",
    "    elif (digits := (floor(log(stone, 10)) + 1)) % 2 < 1:\n",
    "        left = stone // 10 ** (digits // 2)\n",
    "        right = stone % 10 ** (digits // 2)\n",
    "        size = blink(left, times - 1) + blink(right, times - 1)\n",
    "    else:\n",
    "        size = blink(stone * 2024, times - 1)\n",
    "\n",
    "    if (stone, times) not in tracking:\n",
    "        tracking[(stone, times)] = size\n",
    "\n",
    "    return size\n",
    "\n",
    "def part1(data):\n",
    "    stones = map(int, data[0].split())\n",
    "    count = sum(blink(stone, 25) for stone in stones)\n",
    "    return count\n",
    "\n",
    "# Call part1 and part2\n",
    "result_part1 = part1(content)\n",
    "print(f\"Part 1: {result_part1}\")"
   ]
  },
  {
   "cell_type": "markdown",
   "metadata": {},
   "source": [
    "# Part 2"
   ]
  },
  {
   "cell_type": "code",
   "execution_count": null,
   "metadata": {},
   "outputs": [
    {
     "name": "stdout",
     "output_type": "stream",
     "text": [
      "['4610211 4 0 59 3907 201586 929 33750']\n"
     ]
    }
   ],
   "source": [
    "# Day 11 (Part 2)\n",
    "# Define file path\n",
    "file_path = \"Day11_Part2.txt\"\n",
    "\n",
    "with open(file_path, 'r') as file:\n",
    "    content = file.readlines()\n",
    "print(content)"
   ]
  },
  {
   "cell_type": "code",
   "execution_count": 42,
   "metadata": {},
   "outputs": [
    {
     "name": "stdout",
     "output_type": "stream",
     "text": [
      "Part 2: 234568186890978\n"
     ]
    }
   ],
   "source": [
    "def part2(data):\n",
    "    stones = map(int, data[0].split())\n",
    "    count = sum(blink(stone, 75) for stone in stones)\n",
    "    return count\n",
    "\n",
    "result_part2 = part2(content)\n",
    "print(f\"Part 2: {result_part2}\")"
   ]
  },
  {
   "cell_type": "code",
   "execution_count": null,
   "metadata": {},
   "outputs": [],
   "source": []
  }
 ],
 "metadata": {
  "kernelspec": {
   "display_name": "env",
   "language": "python",
   "name": "python3"
  },
  "language_info": {
   "codemirror_mode": {
    "name": "ipython",
    "version": 3
   },
   "file_extension": ".py",
   "mimetype": "text/x-python",
   "name": "python",
   "nbconvert_exporter": "python",
   "pygments_lexer": "ipython3",
   "version": "3.10.0"
  }
 },
 "nbformat": 4,
 "nbformat_minor": 2
}
