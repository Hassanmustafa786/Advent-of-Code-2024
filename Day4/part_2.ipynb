{
 "cells": [
  {
   "cell_type": "code",
   "execution_count": 14,
   "metadata": {},
   "outputs": [],
   "source": [
    "# Day 4 (Part 2)\n",
    "# Define file path\n",
    "file_path = \"Part2.txt\"\n",
    "\n",
    "matrix = []\n",
    "# Read the file\n",
    "with open(file_path, 'r') as file:\n",
    "    lines = file.readlines()\n",
    "    for line in lines:\n",
    "        matrix.append(list(line.strip()))"
   ]
  },
  {
   "cell_type": "code",
   "execution_count": 21,
   "metadata": {},
   "outputs": [
    {
     "name": "stdout",
     "output_type": "stream",
     "text": [
      "Process completed. 'X-MAS' in X pattern found 1815 times.\n"
     ]
    }
   ],
   "source": [
    "def part2(data):\n",
    "    rows, cols = len(data), len(data[0])\n",
    "    count = 0\n",
    "\n",
    "    _set = {\"M\", \"S\"}\n",
    "\n",
    "    # Iterate through the matrix to find the center of X\n",
    "    for r in range(1, rows - 1):  # Skip the first and last rows\n",
    "        for c in range(1, cols - 1):  # Skip the first and last columns\n",
    "            if data[r][c] == \"A\":  # Check if the center is 'A'\n",
    "                # Check the four corners of the X pattern\n",
    "                if {data[r - 1][c - 1], data[r + 1][c + 1]} == _set and {data[r - 1][c + 1], data[r + 1][c - 1]} == _set:\n",
    "                    count += 1  # Increment count when the X-MAS pattern is found\n",
    "\n",
    "    return count\n",
    "\n",
    "def main():\n",
    "    input_file_path = 'Part2.txt'\n",
    "\n",
    "    # Read the file into a matrix\n",
    "    with open(input_file_path, 'r') as file:\n",
    "        data = [list(line.strip()) for line in file.readlines()]\n",
    "\n",
    "    # Find and count the X-MAS patterns in the X shape\n",
    "    xmas_count = part2(data)\n",
    "    print(f\"Process completed. 'X-MAS' in X pattern found {xmas_count} times.\")\n",
    "\n",
    "if __name__ == \"__main__\":\n",
    "    main()"
   ]
  },
  {
   "cell_type": "code",
   "execution_count": null,
   "metadata": {},
   "outputs": [],
   "source": []
  }
 ],
 "metadata": {
  "kernelspec": {
   "display_name": "Python 3",
   "language": "python",
   "name": "python3"
  },
  "language_info": {
   "codemirror_mode": {
    "name": "ipython",
    "version": 3
   },
   "file_extension": ".py",
   "mimetype": "text/x-python",
   "name": "python",
   "nbconvert_exporter": "python",
   "pygments_lexer": "ipython3",
   "version": "3.10.0"
  }
 },
 "nbformat": 4,
 "nbformat_minor": 2
}
